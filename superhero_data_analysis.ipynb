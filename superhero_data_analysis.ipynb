{
  "nbformat": 4,
  "nbformat_minor": 2,
  "metadata": {
    "orig_nbformat": 4,
    "language_info": {
      "name": "python",
      "version": "3.9.7",
      "mimetype": "text/x-python",
      "codemirror_mode": {
        "name": "ipython",
        "version": 3
      },
      "pygments_lexer": "ipython3",
      "nbconvert_exporter": "python",
      "file_extension": ".py"
    },
    "kernelspec": {
      "name": "python3",
      "display_name": "Python 3.9.7 64-bit"
    },
    "interpreter": {
      "hash": "c910ff1971d1a35b86d57fc264bbf5a30ca5984c3d733b151c172360a879289c"
    },
    "colab": {
      "name": "superhero-data-analysis.ipynb",
      "provenance": [],
      "collapsed_sections": [
        "JVTbkABWnKS5",
        "krJ8YpkmnKS6",
        "g1AqrIe2nKS7",
        "9eijXujHnKS8",
        "CCFhmeZGnKS8",
        "ExxDMPimnKS9",
        "t5XJJbgxnKS9",
        "JstUEGgYnKS-",
        "2E3mfCRinKS_",
        "oN8a6MULnKTA",
        "Oz0M2GQrnKTB",
        "17WTbhnTnKTB",
        "8Zwzjo1wnKTC",
        "hyGkZzRJnKTD",
        "yK5cAIMknKTE",
        "kizM20lunKTF",
        "-3J6-Rr8nKTG",
        "O9goL49fnKTH",
        "wucTJTO8nKTH",
        "Q0PJq6eInKTI",
        "ymcWWxM6nKTJ",
        "GntLThAlHSV_",
        "WCEUhWy9DQXb"
      ]
    }
  },
  "cells": [
    {
      "cell_type": "markdown",
      "source": [
        "# Importing Libraries"
      ],
      "metadata": {
        "id": "rgewzkuRnKSz"
      }
    },
    {
      "cell_type": "code",
      "execution_count": null,
      "source": [
        "import pandas as pd\r\n",
        "import numpy as np\r\n",
        "\r\n",
        "import matplotlib.pyplot as plt\r\n",
        "import seaborn as sns"
      ],
      "outputs": [],
      "metadata": {
        "id": "E6yCn8TLnKS1"
      }
    },
    {
      "cell_type": "code",
      "execution_count": null,
      "source": [
        "superheroes_info = pd.read_csv(\"superheroes_info.csv\")\r\n",
        "superheroes_stats = pd.read_csv(\"superheroes_stats.csv\")\r\n",
        "superheroes_power_matrix = pd.read_csv(\"superheroes_power_matrix.csv\")"
      ],
      "outputs": [],
      "metadata": {
        "id": "6TgSJrEnnKS3"
      }
    },
    {
      "cell_type": "code",
      "execution_count": null,
      "source": [
        "superheroes_info.head()"
      ],
      "outputs": [
        {
          "output_type": "execute_result",
          "data": {
            "text/html": [
              "<div>\n",
              "<style scoped>\n",
              "    .dataframe tbody tr th:only-of-type {\n",
              "        vertical-align: middle;\n",
              "    }\n",
              "\n",
              "    .dataframe tbody tr th {\n",
              "        vertical-align: top;\n",
              "    }\n",
              "\n",
              "    .dataframe thead th {\n",
              "        text-align: right;\n",
              "    }\n",
              "</style>\n",
              "<table border=\"1\" class=\"dataframe\">\n",
              "  <thead>\n",
              "    <tr style=\"text-align: right;\">\n",
              "      <th></th>\n",
              "      <th>Unnamed: 0</th>\n",
              "      <th>Name</th>\n",
              "      <th>Identity</th>\n",
              "      <th>Status</th>\n",
              "      <th>Gender</th>\n",
              "      <th>Alignment</th>\n",
              "      <th>Race</th>\n",
              "      <th>Height</th>\n",
              "      <th>Weight</th>\n",
              "      <th>EyeColor</th>\n",
              "      <th>HairColor</th>\n",
              "      <th>SkinColor</th>\n",
              "      <th>Publisher</th>\n",
              "      <th>Year</th>\n",
              "      <th>Appearances</th>\n",
              "      <th>FirstAppearance</th>\n",
              "      <th>AdditionalData</th>\n",
              "    </tr>\n",
              "  </thead>\n",
              "  <tbody>\n",
              "    <tr>\n",
              "      <th>0</th>\n",
              "      <td>0</td>\n",
              "      <td>Spider-Man</td>\n",
              "      <td>Secret</td>\n",
              "      <td>Living</td>\n",
              "      <td>Male</td>\n",
              "      <td>Good</td>\n",
              "      <td>Human</td>\n",
              "      <td>178.0</td>\n",
              "      <td>74.0</td>\n",
              "      <td>Hazel</td>\n",
              "      <td>Brown</td>\n",
              "      <td>NaN</td>\n",
              "      <td>Marvel</td>\n",
              "      <td>1962.0</td>\n",
              "      <td>4043.0</td>\n",
              "      <td>1962-08-01</td>\n",
              "      <td>Peter Parker</td>\n",
              "    </tr>\n",
              "    <tr>\n",
              "      <th>1</th>\n",
              "      <td>1</td>\n",
              "      <td>Spider-Man</td>\n",
              "      <td>Secret</td>\n",
              "      <td>Living</td>\n",
              "      <td>Male</td>\n",
              "      <td>Good</td>\n",
              "      <td>Human</td>\n",
              "      <td>178.0</td>\n",
              "      <td>77.0</td>\n",
              "      <td>Hazel</td>\n",
              "      <td>Brown</td>\n",
              "      <td>NaN</td>\n",
              "      <td>Marvel</td>\n",
              "      <td>1962.0</td>\n",
              "      <td>4043.0</td>\n",
              "      <td>1962-08-01</td>\n",
              "      <td>Peter Parker</td>\n",
              "    </tr>\n",
              "    <tr>\n",
              "      <th>2</th>\n",
              "      <td>2</td>\n",
              "      <td>Spider-Man</td>\n",
              "      <td>Secret</td>\n",
              "      <td>Living</td>\n",
              "      <td>Male</td>\n",
              "      <td>Good</td>\n",
              "      <td>Human</td>\n",
              "      <td>157.0</td>\n",
              "      <td>56.0</td>\n",
              "      <td>Hazel</td>\n",
              "      <td>Brown</td>\n",
              "      <td>NaN</td>\n",
              "      <td>Marvel</td>\n",
              "      <td>1962.0</td>\n",
              "      <td>4043.0</td>\n",
              "      <td>1962-08-01</td>\n",
              "      <td>Peter Parker</td>\n",
              "    </tr>\n",
              "    <tr>\n",
              "      <th>3</th>\n",
              "      <td>3</td>\n",
              "      <td>Captain America</td>\n",
              "      <td>Public</td>\n",
              "      <td>Living</td>\n",
              "      <td>Male</td>\n",
              "      <td>Good</td>\n",
              "      <td>Human</td>\n",
              "      <td>188.0</td>\n",
              "      <td>108.0</td>\n",
              "      <td>Blue</td>\n",
              "      <td>White</td>\n",
              "      <td>NaN</td>\n",
              "      <td>Marvel</td>\n",
              "      <td>1941.0</td>\n",
              "      <td>3360.0</td>\n",
              "      <td>1941-03-01</td>\n",
              "      <td>Steven Rogers</td>\n",
              "    </tr>\n",
              "    <tr>\n",
              "      <th>4</th>\n",
              "      <td>4</td>\n",
              "      <td>Captain America</td>\n",
              "      <td>Secret</td>\n",
              "      <td>Living</td>\n",
              "      <td>Male</td>\n",
              "      <td>Bad</td>\n",
              "      <td>Human</td>\n",
              "      <td>188.0</td>\n",
              "      <td>108.0</td>\n",
              "      <td>Blue</td>\n",
              "      <td>Blond</td>\n",
              "      <td>NaN</td>\n",
              "      <td>Marvel</td>\n",
              "      <td>1966.0</td>\n",
              "      <td>1.0</td>\n",
              "      <td>1966-10-01</td>\n",
              "      <td>Impersonator, Sons of the Serpent</td>\n",
              "    </tr>\n",
              "  </tbody>\n",
              "</table>\n",
              "</div>"
            ],
            "text/plain": [
              "   Unnamed: 0  ...                     AdditionalData\n",
              "0           0  ...                       Peter Parker\n",
              "1           1  ...                       Peter Parker\n",
              "2           2  ...                       Peter Parker\n",
              "3           3  ...                      Steven Rogers\n",
              "4           4  ...  Impersonator, Sons of the Serpent\n",
              "\n",
              "[5 rows x 17 columns]"
            ]
          },
          "metadata": {},
          "execution_count": 3
        }
      ],
      "metadata": {
        "colab": {
          "base_uri": "https://localhost:8080/",
          "height": 347
        },
        "id": "TsRzqCfFnKS3",
        "outputId": "555c7833-c9a3-4828-f274-83faa87b00b7"
      }
    },
    {
      "cell_type": "code",
      "execution_count": null,
      "source": [
        "superheroes_stats.head()"
      ],
      "outputs": [
        {
          "output_type": "execute_result",
          "data": {
            "text/html": [
              "<div>\n",
              "<style scoped>\n",
              "    .dataframe tbody tr th:only-of-type {\n",
              "        vertical-align: middle;\n",
              "    }\n",
              "\n",
              "    .dataframe tbody tr th {\n",
              "        vertical-align: top;\n",
              "    }\n",
              "\n",
              "    .dataframe thead th {\n",
              "        text-align: right;\n",
              "    }\n",
              "</style>\n",
              "<table border=\"1\" class=\"dataframe\">\n",
              "  <thead>\n",
              "    <tr style=\"text-align: right;\">\n",
              "      <th></th>\n",
              "      <th>Name</th>\n",
              "      <th>Alignment</th>\n",
              "      <th>Intelligence</th>\n",
              "      <th>Strength</th>\n",
              "      <th>Speed</th>\n",
              "      <th>Durability</th>\n",
              "      <th>Power</th>\n",
              "      <th>Combat</th>\n",
              "      <th>Total</th>\n",
              "    </tr>\n",
              "  </thead>\n",
              "  <tbody>\n",
              "    <tr>\n",
              "      <th>0</th>\n",
              "      <td>3-D Man</td>\n",
              "      <td>good</td>\n",
              "      <td>50.0</td>\n",
              "      <td>31.0</td>\n",
              "      <td>43.0</td>\n",
              "      <td>32.0</td>\n",
              "      <td>25.0</td>\n",
              "      <td>52.0</td>\n",
              "      <td>233.0</td>\n",
              "    </tr>\n",
              "    <tr>\n",
              "      <th>1</th>\n",
              "      <td>A-Bomb</td>\n",
              "      <td>good</td>\n",
              "      <td>38.0</td>\n",
              "      <td>100.0</td>\n",
              "      <td>17.0</td>\n",
              "      <td>80.0</td>\n",
              "      <td>17.0</td>\n",
              "      <td>64.0</td>\n",
              "      <td>316.0</td>\n",
              "    </tr>\n",
              "    <tr>\n",
              "      <th>2</th>\n",
              "      <td>Abe Sapien</td>\n",
              "      <td>good</td>\n",
              "      <td>88.0</td>\n",
              "      <td>14.0</td>\n",
              "      <td>35.0</td>\n",
              "      <td>42.0</td>\n",
              "      <td>35.0</td>\n",
              "      <td>85.0</td>\n",
              "      <td>299.0</td>\n",
              "    </tr>\n",
              "    <tr>\n",
              "      <th>3</th>\n",
              "      <td>Abin Sur</td>\n",
              "      <td>good</td>\n",
              "      <td>50.0</td>\n",
              "      <td>90.0</td>\n",
              "      <td>53.0</td>\n",
              "      <td>64.0</td>\n",
              "      <td>84.0</td>\n",
              "      <td>65.0</td>\n",
              "      <td>406.0</td>\n",
              "    </tr>\n",
              "    <tr>\n",
              "      <th>4</th>\n",
              "      <td>Abomination</td>\n",
              "      <td>bad</td>\n",
              "      <td>63.0</td>\n",
              "      <td>80.0</td>\n",
              "      <td>53.0</td>\n",
              "      <td>90.0</td>\n",
              "      <td>55.0</td>\n",
              "      <td>95.0</td>\n",
              "      <td>436.0</td>\n",
              "    </tr>\n",
              "  </tbody>\n",
              "</table>\n",
              "</div>"
            ],
            "text/plain": [
              "          Name Alignment  Intelligence  ...  Power  Combat  Total\n",
              "0      3-D Man      good          50.0  ...   25.0    52.0  233.0\n",
              "1       A-Bomb      good          38.0  ...   17.0    64.0  316.0\n",
              "2   Abe Sapien      good          88.0  ...   35.0    85.0  299.0\n",
              "3     Abin Sur      good          50.0  ...   84.0    65.0  406.0\n",
              "4  Abomination       bad          63.0  ...   55.0    95.0  436.0\n",
              "\n",
              "[5 rows x 9 columns]"
            ]
          },
          "metadata": {},
          "execution_count": 4
        }
      ],
      "metadata": {
        "colab": {
          "base_uri": "https://localhost:8080/",
          "height": 206
        },
        "id": "AVZgngWcnKS4",
        "outputId": "49fe9fa9-038b-4f05-9f35-0c37377da19b"
      }
    },
    {
      "cell_type": "markdown",
      "source": [
        "## Question 1: Good versus Evil - Which group has more combined power?"
      ],
      "metadata": {
        "id": "JVTbkABWnKS5"
      }
    },
    {
      "cell_type": "code",
      "execution_count": null,
      "source": [
        "combined_power = superheroes_stats.groupby(by=\"Alignment\").sum()\r\n",
        "combined_power"
      ],
      "outputs": [
        {
          "output_type": "execute_result",
          "data": {
            "text/html": [
              "<div>\n",
              "<style scoped>\n",
              "    .dataframe tbody tr th:only-of-type {\n",
              "        vertical-align: middle;\n",
              "    }\n",
              "\n",
              "    .dataframe tbody tr th {\n",
              "        vertical-align: top;\n",
              "    }\n",
              "\n",
              "    .dataframe thead th {\n",
              "        text-align: right;\n",
              "    }\n",
              "</style>\n",
              "<table border=\"1\" class=\"dataframe\">\n",
              "  <thead>\n",
              "    <tr style=\"text-align: right;\">\n",
              "      <th></th>\n",
              "      <th>Intelligence</th>\n",
              "      <th>Strength</th>\n",
              "      <th>Speed</th>\n",
              "      <th>Durability</th>\n",
              "      <th>Power</th>\n",
              "      <th>Combat</th>\n",
              "      <th>Total</th>\n",
              "    </tr>\n",
              "    <tr>\n",
              "      <th>Alignment</th>\n",
              "      <th></th>\n",
              "      <th></th>\n",
              "      <th></th>\n",
              "      <th></th>\n",
              "      <th></th>\n",
              "      <th></th>\n",
              "      <th></th>\n",
              "    </tr>\n",
              "  </thead>\n",
              "  <tbody>\n",
              "    <tr>\n",
              "      <th>bad</th>\n",
              "      <td>8209.0</td>\n",
              "      <td>5627.0</td>\n",
              "      <td>4524.0</td>\n",
              "      <td>7593.0</td>\n",
              "      <td>7298.0</td>\n",
              "      <td>7320.0</td>\n",
              "      <td>40539.0</td>\n",
              "    </tr>\n",
              "    <tr>\n",
              "      <th>good</th>\n",
              "      <td>18009.0</td>\n",
              "      <td>11374.0</td>\n",
              "      <td>11393.0</td>\n",
              "      <td>16840.0</td>\n",
              "      <td>16541.0</td>\n",
              "      <td>18048.0</td>\n",
              "      <td>91936.0</td>\n",
              "    </tr>\n",
              "    <tr>\n",
              "      <th>neutral</th>\n",
              "      <td>670.0</td>\n",
              "      <td>503.0</td>\n",
              "      <td>514.0</td>\n",
              "      <td>831.0</td>\n",
              "      <td>647.0</td>\n",
              "      <td>744.0</td>\n",
              "      <td>3909.0</td>\n",
              "    </tr>\n",
              "  </tbody>\n",
              "</table>\n",
              "</div>"
            ],
            "text/plain": [
              "           Intelligence  Strength    Speed  ...    Power   Combat    Total\n",
              "Alignment                                   ...                           \n",
              "bad              8209.0    5627.0   4524.0  ...   7298.0   7320.0  40539.0\n",
              "good            18009.0   11374.0  11393.0  ...  16541.0  18048.0  91936.0\n",
              "neutral           670.0     503.0    514.0  ...    647.0    744.0   3909.0\n",
              "\n",
              "[3 rows x 7 columns]"
            ]
          },
          "metadata": {},
          "execution_count": 5
        }
      ],
      "metadata": {
        "colab": {
          "base_uri": "https://localhost:8080/"
        },
        "id": "SCkaN-eanKS5",
        "outputId": "61e48722-f329-47f6-ccfb-4fcefba57fd9"
      }
    },
    {
      "cell_type": "code",
      "execution_count": null,
      "source": [
        "plt.figure(figsize=(6, 6))\n",
        "sns.barplot(x=combined_power.index, y=combined_power.Total)\n",
        "plt.title(\"Combined Power of Comic Characters by Alignment\")\n",
        "plt.xlabel(\"Alignment of Characters\")\n",
        "plt.ylabel(\"Combined Power\")\n",
        "plt.show()"
      ],
      "outputs": [
        {
          "output_type": "display_data",
          "data": {
            "image/png": "[encoded data removed]",
            "text/plain": [
              "<Figure size 432x432 with 1 Axes>"
            ]
          },
          "metadata": {
            "needs_background": "light"
          }
        }
      ],
      "metadata": {
        "colab": {
          "base_uri": "https://localhost:8080/"
        },
        "id": "D0rcq1aQnKS5",
        "outputId": "fc216c40-4170-40d2-9f6e-5df58a574753"
      }
    },
    {
      "cell_type": "markdown",
      "source": [
        "### Answer: As Observed Bad Characters have combined power of 40539 where as Good Characters have 91936 of Combined Power."
      ],
      "metadata": {
        "id": "SllawIJKnKS6"
      }
    },
    {
      "cell_type": "markdown",
      "source": [
        "## Question 2: Which alignment (good\\bad) has higher avg speed?"
      ],
      "metadata": {
        "id": "krJ8YpkmnKS6"
      }
    },
    {
      "cell_type": "code",
      "execution_count": null,
      "source": [
        "avg_speed = superheroes_stats.groupby(by=\"Alignment\").mean()\n",
        "avg_speed"
      ],
      "outputs": [
        {
          "output_type": "execute_result",
          "data": {
            "text/html": [
              "<div>\n",
              "<style scoped>\n",
              "    .dataframe tbody tr th:only-of-type {\n",
              "        vertical-align: middle;\n",
              "    }\n",
              "\n",
              "    .dataframe tbody tr th {\n",
              "        vertical-align: top;\n",
              "    }\n",
              "\n",
              "    .dataframe thead th {\n",
              "        text-align: right;\n",
              "    }\n",
              "</style>\n",
              "<table border=\"1\" class=\"dataframe\">\n",
              "  <thead>\n",
              "    <tr style=\"text-align: right;\">\n",
              "      <th></th>\n",
              "      <th>Intelligence</th>\n",
              "      <th>Strength</th>\n",
              "      <th>Speed</th>\n",
              "      <th>Durability</th>\n",
              "      <th>Power</th>\n",
              "      <th>Combat</th>\n",
              "      <th>Total</th>\n",
              "    </tr>\n",
              "    <tr>\n",
              "      <th>Alignment</th>\n",
              "      <th></th>\n",
              "      <th></th>\n",
              "      <th></th>\n",
              "      <th></th>\n",
              "      <th></th>\n",
              "      <th></th>\n",
              "      <th></th>\n",
              "    </tr>\n",
              "  </thead>\n",
              "  <tbody>\n",
              "    <tr>\n",
              "      <th>bad</th>\n",
              "      <td>67.842975</td>\n",
              "      <td>46.122951</td>\n",
              "      <td>37.388430</td>\n",
              "      <td>62.752066</td>\n",
              "      <td>60.314050</td>\n",
              "      <td>60.495868</td>\n",
              "      <td>335.033058</td>\n",
              "    </tr>\n",
              "    <tr>\n",
              "      <th>good</th>\n",
              "      <td>60.230769</td>\n",
              "      <td>38.167785</td>\n",
              "      <td>38.360269</td>\n",
              "      <td>56.700337</td>\n",
              "      <td>55.693603</td>\n",
              "      <td>60.361204</td>\n",
              "      <td>310.594595</td>\n",
              "    </tr>\n",
              "    <tr>\n",
              "      <th>neutral</th>\n",
              "      <td>60.909091</td>\n",
              "      <td>45.727273</td>\n",
              "      <td>46.727273</td>\n",
              "      <td>75.545455</td>\n",
              "      <td>58.818182</td>\n",
              "      <td>67.636364</td>\n",
              "      <td>355.363636</td>\n",
              "    </tr>\n",
              "  </tbody>\n",
              "</table>\n",
              "</div>"
            ],
            "text/plain": [
              "           Intelligence   Strength      Speed  ...      Power     Combat       Total\n",
              "Alignment                                      ...                                  \n",
              "bad           67.842975  46.122951  37.388430  ...  60.314050  60.495868  335.033058\n",
              "good          60.230769  38.167785  38.360269  ...  55.693603  60.361204  310.594595\n",
              "neutral       60.909091  45.727273  46.727273  ...  58.818182  67.636364  355.363636\n",
              "\n",
              "[3 rows x 7 columns]"
            ]
          },
          "metadata": {},
          "execution_count": 7
        }
      ],
      "metadata": {
        "colab": {
          "base_uri": "https://localhost:8080/"
        },
        "id": "pJNCYBJCnKS6",
        "outputId": "8ba73dc2-6b5b-4e8a-bc04-c29329851541"
      }
    },
    {
      "cell_type": "code",
      "execution_count": null,
      "source": [
        "plt.figure(figsize=(6, 6))\n",
        "sns.barplot(x=avg_speed.index, y=avg_speed.Speed)\n",
        "plt.title(\"Average of Comic Characters by Alignment\")\n",
        "plt.xlabel(\"Alignment of Characters\")\n",
        "plt.ylabel(\"Average Speed\")\n",
        "plt.show()"
      ],
      "outputs": [
        {
          "output_type": "display_data",
          "data": {
            "image/png": "[encoded data removed]",
            "text/plain": [
              "<Figure size 432x432 with 1 Axes>"
            ]
          },
          "metadata": {
            "needs_background": "light"
          }
        }
      ],
      "metadata": {
        "colab": {
          "base_uri": "https://localhost:8080/"
        },
        "id": "pQU4-j8lnKS6",
        "outputId": "9a6243ba-4468-48c4-cf31-8a8b519c1655"
      }
    },
    {
      "cell_type": "markdown",
      "source": [
        "### Answer: Neutral Characters have Higher Average Speed than Good Characters followed by Bad Characters."
      ],
      "metadata": {
        "id": "6nS5rprfnKS7"
      }
    },
    {
      "cell_type": "markdown",
      "source": [
        "## Question 3: How many superheros have more Intelligence then Strength?"
      ],
      "metadata": {
        "id": "g1AqrIe2nKS7"
      }
    },
    {
      "cell_type": "code",
      "execution_count": null,
      "source": [
        "count = superheroes_stats[superheroes_stats.Intelligence > superheroes_stats.Strength].Name.count()\n",
        "print(\"Count of Characters with Intelligence > Strength : \", count)"
      ],
      "outputs": [
        {
          "output_type": "stream",
          "name": "stdout",
          "text": [
            "Count of Characters with Intelligence > Strength :  303\n"
          ]
        }
      ],
      "metadata": {
        "colab": {
          "base_uri": "https://localhost:8080/"
        },
        "id": "WF8WIZNCnKS7",
        "outputId": "c81024f4-91fc-4038-8093-16fdeef5b25c"
      }
    },
    {
      "cell_type": "markdown",
      "source": [
        "### Answer: 303 Charactes Have Intelligence higher the their Strength"
      ],
      "metadata": {
        "id": "9eijXujHnKS8"
      }
    },
    {
      "cell_type": "markdown",
      "source": [
        "## Question 4: Show the distribution of Total (all the powers combined) for the good and the evil."
      ],
      "metadata": {
        "id": "CCFhmeZGnKS8"
      }
    },
    {
      "cell_type": "code",
      "execution_count": null,
      "source": [
        "plt.figure(figsize=(12, 6))\n",
        "sns.displot(superheroes_stats.Total, bins=10)\n",
        "plt.xlabel(\"Total/Combined Power\")\n",
        "plt.title(\"Distribution of Total/Combined Power\")\n",
        "plt.xticks(np.arange(0, 650, 50))\n",
        "plt.show()"
      ],
      "outputs": [
        {
          "output_type": "display_data",
          "data": {
            "text/plain": [
              "<Figure size 864x432 with 0 Axes>"
            ]
          },
          "metadata": {}
        },
        {
          "output_type": "display_data",
          "data": {
            "image/png": "[encoded data removed]",
            "text/plain": [
              "<Figure size 360x360 with 1 Axes>"
            ]
          },
          "metadata": {
            "needs_background": "light"
          }
        }
      ],
      "metadata": {
        "colab": {
          "base_uri": "https://localhost:8080/"
        },
        "id": "Hv2bqYHMnKS8",
        "outputId": "bae34b47-a9a0-4f64-9f78-4799fef861b3"
      }
    },
    {
      "cell_type": "markdown",
      "source": [
        "### Answer: Most of the Super Heros have their Total/Combined Power Ranging between 200 - 400"
      ],
      "metadata": {
        "id": "ExxDMPimnKS9"
      }
    },
    {
      "cell_type": "markdown",
      "source": [
        "## Question 5: Who has more characters DC or Marvel?"
      ],
      "metadata": {
        "id": "t5XJJbgxnKS9"
      }
    },
    {
      "cell_type": "code",
      "execution_count": null,
      "source": [
        "heros_count = superheroes_info.Publisher.value_counts()[[\"Marvel\", \"DC\"]]\n",
        "heros_count"
      ],
      "outputs": [
        {
          "output_type": "execute_result",
          "data": {
            "text/plain": [
              "Marvel    16390\n",
              "DC         6901\n",
              "Name: Publisher, dtype: int64"
            ]
          },
          "metadata": {},
          "execution_count": 11
        }
      ],
      "metadata": {
        "colab": {
          "base_uri": "https://localhost:8080/"
        },
        "id": "YBToRtVDnKS9",
        "outputId": "17916e45-68ee-4ba0-ced8-eaa1a3ccfea8"
      }
    },
    {
      "cell_type": "code",
      "execution_count": null,
      "source": [
        "plt.figure(figsize=(6, 6))\n",
        "sns.barplot(x=heros_count.index, y=heros_count)\n",
        "plt.title(\"Superheros Count by Marvel and DC\")\n",
        "plt.xlabel(\"Publisher\")\n",
        "plt.ylabel(\"Superheros Count\")\n",
        "plt.show()"
      ],
      "outputs": [
        {
          "output_type": "display_data",
          "data": {
            "image/png": "[encoded data removed]",
            "text/plain": [
              "<Figure size 432x432 with 1 Axes>"
            ]
          },
          "metadata": {
            "needs_background": "light"
          }
        }
      ],
      "metadata": {
        "colab": {
          "base_uri": "https://localhost:8080/"
        },
        "id": "0FT3wfqtnKS-",
        "outputId": "0c27f56d-fe8a-4fc2-a89c-35ed97aeb8ef"
      }
    },
    {
      "cell_type": "markdown",
      "source": [
        "### Answer: As Seen Marvel has more Superheros than DC"
      ],
      "metadata": {
        "id": "JstUEGgYnKS-"
      }
    },
    {
      "cell_type": "markdown",
      "source": [
        "## Question 6: Who has higher representation of female heros DC or Marvel?"
      ],
      "metadata": {
        "id": "2E3mfCRinKS_"
      }
    },
    {
      "cell_type": "code",
      "execution_count": null,
      "source": [
        "superheros_publisher_gender = superheroes_info[superheroes_info.Publisher.isin([\"Marvel\", \"DC\"])]\n",
        "superheros_publisher_gender = superheros_publisher_gender.groupby(\"Publisher\").Gender.value_counts()\n",
        "superheros_publisher_gender"
      ],
      "outputs": [
        {
          "output_type": "execute_result",
          "data": {
            "text/plain": [
              "Publisher  Gender     \n",
              "DC         Male            4789\n",
              "           Female          1969\n",
              "           Genderless        20\n",
              "           Transgender        1\n",
              "Marvel     Male           11671\n",
              "           Female          3840\n",
              "           Agender           46\n",
              "           Genderfluid        2\n",
              "Name: Gender, dtype: int64"
            ]
          },
          "metadata": {},
          "execution_count": 13
        }
      ],
      "metadata": {
        "colab": {
          "base_uri": "https://localhost:8080/"
        },
        "id": "5rEPOAQxnKS_",
        "outputId": "32fc68af-13de-4d18-ff8d-93ba49df645c"
      }
    },
    {
      "cell_type": "code",
      "execution_count": null,
      "source": [
        "marvel_female_count = superheros_publisher_gender.Marvel.Female\n",
        "dc_femal_count = superheros_publisher_gender.DC.Female\n",
        "\n",
        "print(f\"Marvel has {marvel_female_count} Female Superheros\")\n",
        "print(f\"DC has {dc_femal_count} Female Superheros\", \"\\n\")\n",
        "\n",
        "if marvel_female_count > dc_femal_count:\n",
        "    print(\"Marvel has More Female Superheros\")\n",
        "else:\n",
        "    print(\"DC has More Female Superheros\")"
      ],
      "outputs": [
        {
          "output_type": "stream",
          "name": "stdout",
          "text": [
            "Marvel has 3840 Female Superheros\n",
            "DC has 1969 Female Superheros \n",
            "\n",
            "Marvel has More Female Superheros\n"
          ]
        }
      ],
      "metadata": {
        "colab": {
          "base_uri": "https://localhost:8080/"
        },
        "id": "nwd8rNSnnKTA",
        "outputId": "e77102a3-f143-4bf5-960a-d4ca42c06600"
      }
    },
    {
      "cell_type": "markdown",
      "source": [
        "## Question 7: Show the hight distribution for the characters of 'Marvel Comics'."
      ],
      "metadata": {
        "id": "oN8a6MULnKTA"
      }
    },
    {
      "cell_type": "code",
      "execution_count": null,
      "source": [
        "superheroes_info_marvel = superheroes_info[superheroes_info.Publisher == \"Marvel\"]"
      ],
      "outputs": [],
      "metadata": {
        "id": "9_jn5bF3nKTA"
      }
    },
    {
      "cell_type": "code",
      "execution_count": null,
      "source": [
        "plt.figure(figsize=(6, 6))\n",
        "sns.displot(superheroes_info_marvel.Height, bins=10)\n",
        "plt.xlabel(\"Height (in cm)\")\n",
        "plt.title(\"Height Distribution of Marvel Superheros\")\n",
        "plt.show()"
      ],
      "outputs": [
        {
          "output_type": "display_data",
          "data": {
            "text/plain": [
              "<Figure size 432x432 with 0 Axes>"
            ]
          },
          "metadata": {}
        },
        {
          "output_type": "display_data",
          "data": {
            "image/png": "[encoded data removed]",
            "text/plain": [
              "<Figure size 360x360 with 1 Axes>"
            ]
          },
          "metadata": {
            "needs_background": "light"
          }
        }
      ],
      "metadata": {
        "colab": {
          "base_uri": "https://localhost:8080/"
        },
        "id": "1Rhf6YL_nKTB",
        "outputId": "e193391c-fcbd-446a-f32c-fef4d50a67f2"
      }
    },
    {
      "cell_type": "markdown",
      "source": [
        "## Question 8: How many characters apperred only once?"
      ],
      "metadata": {
        "id": "Oz0M2GQrnKTB"
      }
    },
    {
      "cell_type": "code",
      "execution_count": null,
      "source": [
        "result = superheroes_info.groupby(\"Name\").Name.count() == 1\n",
        "result = result.value_counts()[1]\n",
        "print(result, \"Superheros only appeared Once\")"
      ],
      "outputs": [
        {
          "output_type": "stream",
          "name": "stdout",
          "text": [
            "21204 Superheros only appeared Once\n"
          ]
        }
      ],
      "metadata": {
        "colab": {
          "base_uri": "https://localhost:8080/"
        },
        "id": "9YlxALKCnKTB",
        "outputId": "dfb06bfe-8245-48c6-f243-029ec28b545f"
      }
    },
    {
      "cell_type": "markdown",
      "source": [
        "## Question 9: How many characters died in their first apperance (have one apperance and are deceased)?"
      ],
      "metadata": {
        "id": "17WTbhnTnKTB"
      }
    },
    {
      "cell_type": "code",
      "execution_count": null,
      "source": [
        "result = superheroes_info.groupby(\"Name\").Name.count() == 1\n",
        "result = result[result == True]\n",
        "data = superheroes_info[superheroes_info.Name.isin(result.index)]\n",
        "print(data[data.Status == \"Deceased\"].Name.count(), \"Superheros Died in First Appeareance\")"
      ],
      "outputs": [
        {
          "output_type": "stream",
          "name": "stdout",
          "text": [
            "4892 Superheros Died in First Appeareance\n"
          ]
        }
      ],
      "metadata": {
        "colab": {
          "base_uri": "https://localhost:8080/"
        },
        "id": "EpZSbr-NnKTC",
        "outputId": "316ee1df-6490-47e6-b8cc-2afcadfb596e"
      }
    },
    {
      "cell_type": "markdown",
      "source": [
        "## Question 10: Display a pie chart of the 10 most common hair styles"
      ],
      "metadata": {
        "id": "8Zwzjo1wnKTC"
      }
    },
    {
      "cell_type": "code",
      "execution_count": null,
      "source": [
        "# Top 10 Most Common Hair Styles\n",
        "common_hair_styles = superheroes_info.HairColor.value_counts()[:10]\n",
        "common_hair_styles"
      ],
      "outputs": [
        {
          "output_type": "execute_result",
          "data": {
            "text/plain": [
              "Black     5448\n",
              "Brown     3565\n",
              "Blond     2414\n",
              "Bald      2017\n",
              "Red       1121\n",
              "White     1110\n",
              "Grey       692\n",
              "Green      166\n",
              "Blue       101\n",
              "Auburn      87\n",
              "Name: HairColor, dtype: int64"
            ]
          },
          "metadata": {},
          "execution_count": 19
        }
      ],
      "metadata": {
        "colab": {
          "base_uri": "https://localhost:8080/"
        },
        "id": "lB9VxI_VnKTC",
        "outputId": "32b07a49-3b2c-48f0-9edb-b17d6734f827"
      }
    },
    {
      "cell_type": "code",
      "execution_count": null,
      "source": [
        "plt.figure(figsize=((12, 10)),dpi=100)\n",
        "wedges, texts, autotexts = plt.pie(common_hair_styles, autopct='%1.0f%%')\n",
        "plt.legend(wedges, common_hair_styles.index, loc='right', bbox_to_anchor=(1, 0, 0.5, 1))\n",
        "plt.show()"
      ],
      "outputs": [
        {
          "output_type": "display_data",
          "data": {
            "image/png": "[encoded data removed]",
            "text/plain": [
              "<Figure size 1200x1000 with 1 Axes>"
            ]
          },
          "metadata": {}
        }
      ],
      "metadata": {
        "colab": {
          "base_uri": "https://localhost:8080/"
        },
        "id": "Nyb9AT_wnKTC",
        "outputId": "9537de73-e24c-4854-db6e-e1b5c5592819"
      }
    },
    {
      "cell_type": "markdown",
      "source": [
        "## Question 11: \n",
        "## We want to build the master group to fight evil, kind of an avengers 2.0, but only better,\n",
        "## Lets select the captain, the one with the most total stats  (obviously his Alignment must be good to fight evil)"
      ],
      "metadata": {
        "id": "hyGkZzRJnKTD"
      }
    },
    {
      "cell_type": "code",
      "execution_count": null,
      "source": [
        "heros = superheroes_stats[superheroes_stats.Alignment == \"good\"]\n",
        "print(\"Hightest Total Stats : \", heros.Total.max())"
      ],
      "outputs": [
        {
          "output_type": "stream",
          "name": "stdout",
          "text": [
            "Hightest Total Stats :  581.0\n"
          ]
        }
      ],
      "metadata": {
        "colab": {
          "base_uri": "https://localhost:8080/"
        },
        "id": "T6sFu-xknKTD",
        "outputId": "16750d13-6f8c-43e5-e387-70b672d321ec"
      }
    },
    {
      "cell_type": "code",
      "execution_count": null,
      "source": [
        "captain = superheroes_stats[superheroes_stats.Total == 581] # Captain with Hightest Total Stats\n",
        "captain"
      ],
      "outputs": [
        {
          "output_type": "execute_result",
          "data": {
            "text/html": [
              "<div>\n",
              "<style scoped>\n",
              "    .dataframe tbody tr th:only-of-type {\n",
              "        vertical-align: middle;\n",
              "    }\n",
              "\n",
              "    .dataframe tbody tr th {\n",
              "        vertical-align: top;\n",
              "    }\n",
              "\n",
              "    .dataframe thead th {\n",
              "        text-align: right;\n",
              "    }\n",
              "</style>\n",
              "<table border=\"1\" class=\"dataframe\">\n",
              "  <thead>\n",
              "    <tr style=\"text-align: right;\">\n",
              "      <th></th>\n",
              "      <th>Name</th>\n",
              "      <th>Alignment</th>\n",
              "      <th>Intelligence</th>\n",
              "      <th>Strength</th>\n",
              "      <th>Speed</th>\n",
              "      <th>Durability</th>\n",
              "      <th>Power</th>\n",
              "      <th>Combat</th>\n",
              "      <th>Total</th>\n",
              "    </tr>\n",
              "  </thead>\n",
              "  <tbody>\n",
              "    <tr>\n",
              "      <th>361</th>\n",
              "      <td>Martian Manhunter</td>\n",
              "      <td>good</td>\n",
              "      <td>100.0</td>\n",
              "      <td>100.0</td>\n",
              "      <td>96.0</td>\n",
              "      <td>100.0</td>\n",
              "      <td>100.0</td>\n",
              "      <td>85.0</td>\n",
              "      <td>581.0</td>\n",
              "    </tr>\n",
              "  </tbody>\n",
              "</table>\n",
              "</div>"
            ],
            "text/plain": [
              "                  Name Alignment  Intelligence  ...  Power  Combat  Total\n",
              "361  Martian Manhunter      good         100.0  ...  100.0    85.0  581.0\n",
              "\n",
              "[1 rows x 9 columns]"
            ]
          },
          "metadata": {},
          "execution_count": 22
        }
      ],
      "metadata": {
        "colab": {
          "base_uri": "https://localhost:8080/"
        },
        "id": "YkRSA8gYnKTD",
        "outputId": "0b7f0884-2294-4195-a61d-b0cef8bce0f1"
      }
    },
    {
      "cell_type": "code",
      "execution_count": null,
      "source": [
        "# Other Members with Total Stats Higher than 500\n",
        "members = superheroes_stats.loc[(superheroes_stats.Total < 581) & (superheroes_stats.Total >= 500) & (superheroes_stats.Alignment == \"good\")]\n",
        "members = members.sort_values(by=\"Total\", ascending=False).reset_index(drop=True)\n",
        "members"
      ],
      "outputs": [
        {
          "output_type": "execute_result",
          "data": {
            "text/html": [
              "<div>\n",
              "<style scoped>\n",
              "    .dataframe tbody tr th:only-of-type {\n",
              "        vertical-align: middle;\n",
              "    }\n",
              "\n",
              "    .dataframe tbody tr th {\n",
              "        vertical-align: top;\n",
              "    }\n",
              "\n",
              "    .dataframe thead th {\n",
              "        text-align: right;\n",
              "    }\n",
              "</style>\n",
              "<table border=\"1\" class=\"dataframe\">\n",
              "  <thead>\n",
              "    <tr style=\"text-align: right;\">\n",
              "      <th></th>\n",
              "      <th>Name</th>\n",
              "      <th>Alignment</th>\n",
              "      <th>Intelligence</th>\n",
              "      <th>Strength</th>\n",
              "      <th>Speed</th>\n",
              "      <th>Durability</th>\n",
              "      <th>Power</th>\n",
              "      <th>Combat</th>\n",
              "      <th>Total</th>\n",
              "    </tr>\n",
              "  </thead>\n",
              "  <tbody>\n",
              "    <tr>\n",
              "      <th>0</th>\n",
              "      <td>Superman</td>\n",
              "      <td>good</td>\n",
              "      <td>100.0</td>\n",
              "      <td>100.0</td>\n",
              "      <td>100.0</td>\n",
              "      <td>100.0</td>\n",
              "      <td>94.0</td>\n",
              "      <td>85.0</td>\n",
              "      <td>579.0</td>\n",
              "    </tr>\n",
              "    <tr>\n",
              "      <th>1</th>\n",
              "      <td>Stardust</td>\n",
              "      <td>good</td>\n",
              "      <td>88.0</td>\n",
              "      <td>85.0</td>\n",
              "      <td>100.0</td>\n",
              "      <td>110.0</td>\n",
              "      <td>100.0</td>\n",
              "      <td>85.0</td>\n",
              "      <td>568.0</td>\n",
              "    </tr>\n",
              "    <tr>\n",
              "      <th>2</th>\n",
              "      <td>Thor</td>\n",
              "      <td>good</td>\n",
              "      <td>69.0</td>\n",
              "      <td>100.0</td>\n",
              "      <td>92.0</td>\n",
              "      <td>100.0</td>\n",
              "      <td>100.0</td>\n",
              "      <td>85.0</td>\n",
              "      <td>546.0</td>\n",
              "    </tr>\n",
              "    <tr>\n",
              "      <th>3</th>\n",
              "      <td>Supergirl</td>\n",
              "      <td>good</td>\n",
              "      <td>94.0</td>\n",
              "      <td>98.0</td>\n",
              "      <td>92.0</td>\n",
              "      <td>100.0</td>\n",
              "      <td>85.0</td>\n",
              "      <td>75.0</td>\n",
              "      <td>544.0</td>\n",
              "    </tr>\n",
              "    <tr>\n",
              "      <th>4</th>\n",
              "      <td>Nova</td>\n",
              "      <td>good</td>\n",
              "      <td>100.0</td>\n",
              "      <td>85.0</td>\n",
              "      <td>67.0</td>\n",
              "      <td>101.0</td>\n",
              "      <td>100.0</td>\n",
              "      <td>85.0</td>\n",
              "      <td>538.0</td>\n",
              "    </tr>\n",
              "    <tr>\n",
              "      <th>5</th>\n",
              "      <td>Goku</td>\n",
              "      <td>good</td>\n",
              "      <td>56.0</td>\n",
              "      <td>100.0</td>\n",
              "      <td>75.0</td>\n",
              "      <td>90.0</td>\n",
              "      <td>100.0</td>\n",
              "      <td>100.0</td>\n",
              "      <td>521.0</td>\n",
              "    </tr>\n",
              "    <tr>\n",
              "      <th>6</th>\n",
              "      <td>Jean Grey</td>\n",
              "      <td>good</td>\n",
              "      <td>100.0</td>\n",
              "      <td>80.0</td>\n",
              "      <td>67.0</td>\n",
              "      <td>100.0</td>\n",
              "      <td>100.0</td>\n",
              "      <td>70.0</td>\n",
              "      <td>517.0</td>\n",
              "    </tr>\n",
              "    <tr>\n",
              "      <th>7</th>\n",
              "      <td>Phoenix</td>\n",
              "      <td>good</td>\n",
              "      <td>100.0</td>\n",
              "      <td>80.0</td>\n",
              "      <td>67.0</td>\n",
              "      <td>100.0</td>\n",
              "      <td>100.0</td>\n",
              "      <td>70.0</td>\n",
              "      <td>517.0</td>\n",
              "    </tr>\n",
              "  </tbody>\n",
              "</table>\n",
              "</div>"
            ],
            "text/plain": [
              "        Name Alignment  Intelligence  ...  Power  Combat  Total\n",
              "0   Superman      good         100.0  ...   94.0    85.0  579.0\n",
              "1   Stardust      good          88.0  ...  100.0    85.0  568.0\n",
              "2       Thor      good          69.0  ...  100.0    85.0  546.0\n",
              "3  Supergirl      good          94.0  ...   85.0    75.0  544.0\n",
              "4       Nova      good         100.0  ...  100.0    85.0  538.0\n",
              "5       Goku      good          56.0  ...  100.0   100.0  521.0\n",
              "6  Jean Grey      good         100.0  ...  100.0    70.0  517.0\n",
              "7    Phoenix      good         100.0  ...  100.0    70.0  517.0\n",
              "\n",
              "[8 rows x 9 columns]"
            ]
          },
          "metadata": {},
          "execution_count": 23
        }
      ],
      "metadata": {
        "colab": {
          "base_uri": "https://localhost:8080/"
        },
        "id": "3f7_mCaOnKTD",
        "outputId": "39cd840b-60f9-42b4-e06f-56faf14ec74b"
      }
    },
    {
      "cell_type": "markdown",
      "source": [
        "## Question 12 : What's the mean intelligence of the superheroes who have a 'True' value in the power matrix and the same for the superheroes who have a 'False' value?"
      ],
      "metadata": {
        "id": "yK5cAIMknKTE"
      }
    },
    {
      "cell_type": "code",
      "execution_count": null,
      "source": [
        "intelligent_heros = superheroes_power_matrix.Name.loc[superheroes_power_matrix.Intelligence == True].values\n",
        "non_intelligent_heros = superheroes_power_matrix.Name.loc[superheroes_power_matrix.Intelligence == False].values"
      ],
      "outputs": [],
      "metadata": {
        "id": "EQAhpwjhnKTE"
      }
    },
    {
      "cell_type": "code",
      "execution_count": null,
      "source": [
        "# Mean Intelligence of Intelligent Heros\n",
        "superheroes_stats[superheroes_stats.Name.isin(intelligent_heros)].Intelligence.mean()"
      ],
      "outputs": [
        {
          "output_type": "execute_result",
          "data": {
            "text/plain": [
              "80.87912087912088"
            ]
          },
          "metadata": {},
          "execution_count": 25
        }
      ],
      "metadata": {
        "colab": {
          "base_uri": "https://localhost:8080/"
        },
        "id": "sHd-_Ri3nKTE",
        "outputId": "9b3d9c0f-4880-481d-8db5-8e864b5a710f"
      }
    },
    {
      "cell_type": "code",
      "execution_count": null,
      "source": [
        "# Mean Intelligence of Non-Intelligent Heros\n",
        "superheroes_stats[superheroes_stats.Name.isin(non_intelligent_heros)].Intelligence.mean()"
      ],
      "outputs": [
        {
          "output_type": "execute_result",
          "data": {
            "text/plain": [
              "57.873456790123456"
            ]
          },
          "metadata": {},
          "execution_count": 26
        }
      ],
      "metadata": {
        "colab": {
          "base_uri": "https://localhost:8080/"
        },
        "id": "KLqFoiqFnKTE",
        "outputId": "e8c7ef01-c1ff-45cf-c5a4-e66da1d75cc9"
      }
    },
    {
      "cell_type": "markdown",
      "source": [
        "## Question 13 : Unmatched rivals - show for each super hero the number of vilans that stronger then him/her"
      ],
      "metadata": {
        "id": "kizM20lunKTF"
      }
    },
    {
      "cell_type": "code",
      "execution_count": null,
      "source": [
        "superheroes_stats.head()"
      ],
      "outputs": [
        {
          "output_type": "execute_result",
          "data": {
            "text/html": [
              "<div>\n",
              "<style scoped>\n",
              "    .dataframe tbody tr th:only-of-type {\n",
              "        vertical-align: middle;\n",
              "    }\n",
              "\n",
              "    .dataframe tbody tr th {\n",
              "        vertical-align: top;\n",
              "    }\n",
              "\n",
              "    .dataframe thead th {\n",
              "        text-align: right;\n",
              "    }\n",
              "</style>\n",
              "<table border=\"1\" class=\"dataframe\">\n",
              "  <thead>\n",
              "    <tr style=\"text-align: right;\">\n",
              "      <th></th>\n",
              "      <th>Name</th>\n",
              "      <th>Alignment</th>\n",
              "      <th>Intelligence</th>\n",
              "      <th>Strength</th>\n",
              "      <th>Speed</th>\n",
              "      <th>Durability</th>\n",
              "      <th>Power</th>\n",
              "      <th>Combat</th>\n",
              "      <th>Total</th>\n",
              "    </tr>\n",
              "  </thead>\n",
              "  <tbody>\n",
              "    <tr>\n",
              "      <th>0</th>\n",
              "      <td>3-D Man</td>\n",
              "      <td>good</td>\n",
              "      <td>50.0</td>\n",
              "      <td>31.0</td>\n",
              "      <td>43.0</td>\n",
              "      <td>32.0</td>\n",
              "      <td>25.0</td>\n",
              "      <td>52.0</td>\n",
              "      <td>233.0</td>\n",
              "    </tr>\n",
              "    <tr>\n",
              "      <th>1</th>\n",
              "      <td>A-Bomb</td>\n",
              "      <td>good</td>\n",
              "      <td>38.0</td>\n",
              "      <td>100.0</td>\n",
              "      <td>17.0</td>\n",
              "      <td>80.0</td>\n",
              "      <td>17.0</td>\n",
              "      <td>64.0</td>\n",
              "      <td>316.0</td>\n",
              "    </tr>\n",
              "    <tr>\n",
              "      <th>2</th>\n",
              "      <td>Abe Sapien</td>\n",
              "      <td>good</td>\n",
              "      <td>88.0</td>\n",
              "      <td>14.0</td>\n",
              "      <td>35.0</td>\n",
              "      <td>42.0</td>\n",
              "      <td>35.0</td>\n",
              "      <td>85.0</td>\n",
              "      <td>299.0</td>\n",
              "    </tr>\n",
              "    <tr>\n",
              "      <th>3</th>\n",
              "      <td>Abin Sur</td>\n",
              "      <td>good</td>\n",
              "      <td>50.0</td>\n",
              "      <td>90.0</td>\n",
              "      <td>53.0</td>\n",
              "      <td>64.0</td>\n",
              "      <td>84.0</td>\n",
              "      <td>65.0</td>\n",
              "      <td>406.0</td>\n",
              "    </tr>\n",
              "    <tr>\n",
              "      <th>4</th>\n",
              "      <td>Abomination</td>\n",
              "      <td>bad</td>\n",
              "      <td>63.0</td>\n",
              "      <td>80.0</td>\n",
              "      <td>53.0</td>\n",
              "      <td>90.0</td>\n",
              "      <td>55.0</td>\n",
              "      <td>95.0</td>\n",
              "      <td>436.0</td>\n",
              "    </tr>\n",
              "  </tbody>\n",
              "</table>\n",
              "</div>"
            ],
            "text/plain": [
              "          Name Alignment  Intelligence  ...  Power  Combat  Total\n",
              "0      3-D Man      good          50.0  ...   25.0    52.0  233.0\n",
              "1       A-Bomb      good          38.0  ...   17.0    64.0  316.0\n",
              "2   Abe Sapien      good          88.0  ...   35.0    85.0  299.0\n",
              "3     Abin Sur      good          50.0  ...   84.0    65.0  406.0\n",
              "4  Abomination       bad          63.0  ...   55.0    95.0  436.0\n",
              "\n",
              "[5 rows x 9 columns]"
            ]
          },
          "metadata": {},
          "execution_count": 27
        }
      ],
      "metadata": {
        "colab": {
          "base_uri": "https://localhost:8080/",
          "height": 206
        },
        "id": "pQIdXwYvnKTF",
        "outputId": "2fe09ed7-6a2d-4e05-b7c8-cd719a3a6ae3"
      }
    },
    {
      "cell_type": "code",
      "execution_count": null,
      "source": [
        "superheroes_stats.Alignment.fillna(value=\"good\", inplace=True)\n",
        "\n",
        "cols = [\"Intelligence\",\"Strength\",\"Speed\",\"Durability\",\"Power\",\"Combat\"]\n",
        "for col in cols:\n",
        "    superheroes_stats[col].fillna(value=superheroes_stats[col].median(), inplace=True)\n",
        "    \n",
        "totals = []\n",
        "\n",
        "for superhero in superheroes_stats.values:\n",
        "    totals.append(superhero[2: -1].sum())\n",
        "    \n",
        "superheroes_stats.Total = totals"
      ],
      "outputs": [],
      "metadata": {
        "id": "CYPdO_nenKTF"
      }
    },
    {
      "cell_type": "code",
      "execution_count": null,
      "source": [
        "superheroes_stats.isnull().sum()"
      ],
      "outputs": [
        {
          "output_type": "execute_result",
          "data": {
            "text/plain": [
              "Name            0\n",
              "Alignment       0\n",
              "Intelligence    0\n",
              "Strength        0\n",
              "Speed           0\n",
              "Durability      0\n",
              "Power           0\n",
              "Combat          0\n",
              "Total           0\n",
              "dtype: int64"
            ]
          },
          "metadata": {},
          "execution_count": 29
        }
      ],
      "metadata": {
        "colab": {
          "base_uri": "https://localhost:8080/"
        },
        "id": "qlH95WiXnKTF",
        "outputId": "cd1fee2e-ed2e-47ca-feea-97cf53a75183"
      }
    },
    {
      "cell_type": "code",
      "execution_count": null,
      "source": [
        "good_superheros = superheroes_stats[superheroes_stats.Alignment == \"good\"]\n",
        "bad_superheros = superheroes_stats[superheroes_stats.Alignment == \"bad\"]"
      ],
      "outputs": [],
      "metadata": {
        "id": "r5Rike3FnKTF"
      }
    },
    {
      "cell_type": "code",
      "execution_count": null,
      "source": [
        "unmatched_rivals = []\n",
        "\n",
        "for goodHero in good_superheros.values:\n",
        "    count = 0\n",
        "    for badHero in bad_superheros.values:\n",
        "        if goodHero[-1] < badHero[-1]:\n",
        "            count += 1\n",
        "            \n",
        "    unmatched_rivals.append(count)"
      ],
      "outputs": [],
      "metadata": {
        "id": "dHz7OcAxnKTF"
      }
    },
    {
      "cell_type": "code",
      "execution_count": null,
      "source": [
        "good_superheros[\"Unmatched Rivals\"] = unmatched_rivals\n",
        "good_superheros.head(10)"
      ],
      "outputs": [
        {
          "output_type": "stream",
          "name": "stderr",
          "text": [
            "/usr/local/lib/python3.7/dist-packages/ipykernel_launcher.py:1: SettingWithCopyWarning: \n",
            "A value is trying to be set on a copy of a slice from a DataFrame.\n",
            "Try using .loc[row_indexer,col_indexer] = value instead\n",
            "\n",
            "See the caveats in the documentation: https://pandas.pydata.org/pandas-docs/stable/user_guide/indexing.html#returning-a-view-versus-a-copy\n",
            "  \"\"\"Entry point for launching an IPython kernel.\n"
          ]
        },
        {
          "output_type": "execute_result",
          "data": {
            "text/html": [
              "<div>\n",
              "<style scoped>\n",
              "    .dataframe tbody tr th:only-of-type {\n",
              "        vertical-align: middle;\n",
              "    }\n",
              "\n",
              "    .dataframe tbody tr th {\n",
              "        vertical-align: top;\n",
              "    }\n",
              "\n",
              "    .dataframe thead th {\n",
              "        text-align: right;\n",
              "    }\n",
              "</style>\n",
              "<table border=\"1\" class=\"dataframe\">\n",
              "  <thead>\n",
              "    <tr style=\"text-align: right;\">\n",
              "      <th></th>\n",
              "      <th>Name</th>\n",
              "      <th>Alignment</th>\n",
              "      <th>Intelligence</th>\n",
              "      <th>Strength</th>\n",
              "      <th>Speed</th>\n",
              "      <th>Durability</th>\n",
              "      <th>Power</th>\n",
              "      <th>Combat</th>\n",
              "      <th>Total</th>\n",
              "      <th>Unmatched Rivals</th>\n",
              "    </tr>\n",
              "  </thead>\n",
              "  <tbody>\n",
              "    <tr>\n",
              "      <th>0</th>\n",
              "      <td>3-D Man</td>\n",
              "      <td>good</td>\n",
              "      <td>50.0</td>\n",
              "      <td>31.0</td>\n",
              "      <td>43.0</td>\n",
              "      <td>32.0</td>\n",
              "      <td>25.0</td>\n",
              "      <td>52.0</td>\n",
              "      <td>233.0</td>\n",
              "      <td>140</td>\n",
              "    </tr>\n",
              "    <tr>\n",
              "      <th>1</th>\n",
              "      <td>A-Bomb</td>\n",
              "      <td>good</td>\n",
              "      <td>38.0</td>\n",
              "      <td>100.0</td>\n",
              "      <td>17.0</td>\n",
              "      <td>80.0</td>\n",
              "      <td>17.0</td>\n",
              "      <td>64.0</td>\n",
              "      <td>316.0</td>\n",
              "      <td>58</td>\n",
              "    </tr>\n",
              "    <tr>\n",
              "      <th>2</th>\n",
              "      <td>Abe Sapien</td>\n",
              "      <td>good</td>\n",
              "      <td>88.0</td>\n",
              "      <td>14.0</td>\n",
              "      <td>35.0</td>\n",
              "      <td>42.0</td>\n",
              "      <td>35.0</td>\n",
              "      <td>85.0</td>\n",
              "      <td>299.0</td>\n",
              "      <td>108</td>\n",
              "    </tr>\n",
              "    <tr>\n",
              "      <th>3</th>\n",
              "      <td>Abin Sur</td>\n",
              "      <td>good</td>\n",
              "      <td>50.0</td>\n",
              "      <td>90.0</td>\n",
              "      <td>53.0</td>\n",
              "      <td>64.0</td>\n",
              "      <td>84.0</td>\n",
              "      <td>65.0</td>\n",
              "      <td>406.0</td>\n",
              "      <td>34</td>\n",
              "    </tr>\n",
              "    <tr>\n",
              "      <th>6</th>\n",
              "      <td>Adam Monroe</td>\n",
              "      <td>good</td>\n",
              "      <td>63.0</td>\n",
              "      <td>10.0</td>\n",
              "      <td>12.0</td>\n",
              "      <td>100.0</td>\n",
              "      <td>71.0</td>\n",
              "      <td>64.0</td>\n",
              "      <td>320.0</td>\n",
              "      <td>58</td>\n",
              "    </tr>\n",
              "    <tr>\n",
              "      <th>7</th>\n",
              "      <td>Adam Strange</td>\n",
              "      <td>good</td>\n",
              "      <td>63.0</td>\n",
              "      <td>32.0</td>\n",
              "      <td>33.0</td>\n",
              "      <td>56.0</td>\n",
              "      <td>58.0</td>\n",
              "      <td>64.0</td>\n",
              "      <td>306.0</td>\n",
              "      <td>62</td>\n",
              "    </tr>\n",
              "    <tr>\n",
              "      <th>8</th>\n",
              "      <td>Agent  13</td>\n",
              "      <td>good</td>\n",
              "      <td>63.0</td>\n",
              "      <td>32.0</td>\n",
              "      <td>33.0</td>\n",
              "      <td>56.0</td>\n",
              "      <td>58.0</td>\n",
              "      <td>64.0</td>\n",
              "      <td>306.0</td>\n",
              "      <td>62</td>\n",
              "    </tr>\n",
              "    <tr>\n",
              "      <th>9</th>\n",
              "      <td>Agent Bob</td>\n",
              "      <td>good</td>\n",
              "      <td>10.0</td>\n",
              "      <td>8.0</td>\n",
              "      <td>13.0</td>\n",
              "      <td>5.0</td>\n",
              "      <td>5.0</td>\n",
              "      <td>20.0</td>\n",
              "      <td>61.0</td>\n",
              "      <td>165</td>\n",
              "    </tr>\n",
              "    <tr>\n",
              "      <th>10</th>\n",
              "      <td>Agent Zero</td>\n",
              "      <td>good</td>\n",
              "      <td>75.0</td>\n",
              "      <td>28.0</td>\n",
              "      <td>38.0</td>\n",
              "      <td>80.0</td>\n",
              "      <td>72.0</td>\n",
              "      <td>95.0</td>\n",
              "      <td>388.0</td>\n",
              "      <td>35</td>\n",
              "    </tr>\n",
              "    <tr>\n",
              "      <th>12</th>\n",
              "      <td>Alan Scott</td>\n",
              "      <td>good</td>\n",
              "      <td>63.0</td>\n",
              "      <td>80.0</td>\n",
              "      <td>23.0</td>\n",
              "      <td>90.0</td>\n",
              "      <td>98.0</td>\n",
              "      <td>32.0</td>\n",
              "      <td>386.0</td>\n",
              "      <td>35</td>\n",
              "    </tr>\n",
              "  </tbody>\n",
              "</table>\n",
              "</div>"
            ],
            "text/plain": [
              "            Name Alignment  Intelligence  ...  Combat  Total  Unmatched Rivals\n",
              "0        3-D Man      good          50.0  ...    52.0  233.0               140\n",
              "1         A-Bomb      good          38.0  ...    64.0  316.0                58\n",
              "2     Abe Sapien      good          88.0  ...    85.0  299.0               108\n",
              "3       Abin Sur      good          50.0  ...    65.0  406.0                34\n",
              "6    Adam Monroe      good          63.0  ...    64.0  320.0                58\n",
              "7   Adam Strange      good          63.0  ...    64.0  306.0                62\n",
              "8      Agent  13      good          63.0  ...    64.0  306.0                62\n",
              "9      Agent Bob      good          10.0  ...    20.0   61.0               165\n",
              "10    Agent Zero      good          75.0  ...    95.0  388.0                35\n",
              "12    Alan Scott      good          63.0  ...    32.0  386.0                35\n",
              "\n",
              "[10 rows x 10 columns]"
            ]
          },
          "metadata": {},
          "execution_count": 32
        }
      ],
      "metadata": {
        "colab": {
          "base_uri": "https://localhost:8080/",
          "height": 487
        },
        "id": "EUpasnAUnKTG",
        "outputId": "49493bd9-67ca-4726-f26f-5d2db1987e70"
      }
    },
    {
      "cell_type": "markdown",
      "source": [
        "## Question 14 : Weak point - for each vilan, show his weakest characteristic."
      ],
      "metadata": {
        "id": "-3J6-Rr8nKTG"
      }
    },
    {
      "cell_type": "code",
      "execution_count": null,
      "source": [
        "bad_superheros.head(10)"
      ],
      "outputs": [
        {
          "output_type": "execute_result",
          "data": {
            "text/html": [
              "<div>\n",
              "<style scoped>\n",
              "    .dataframe tbody tr th:only-of-type {\n",
              "        vertical-align: middle;\n",
              "    }\n",
              "\n",
              "    .dataframe tbody tr th {\n",
              "        vertical-align: top;\n",
              "    }\n",
              "\n",
              "    .dataframe thead th {\n",
              "        text-align: right;\n",
              "    }\n",
              "</style>\n",
              "<table border=\"1\" class=\"dataframe\">\n",
              "  <thead>\n",
              "    <tr style=\"text-align: right;\">\n",
              "      <th></th>\n",
              "      <th>Name</th>\n",
              "      <th>Alignment</th>\n",
              "      <th>Intelligence</th>\n",
              "      <th>Strength</th>\n",
              "      <th>Speed</th>\n",
              "      <th>Durability</th>\n",
              "      <th>Power</th>\n",
              "      <th>Combat</th>\n",
              "      <th>Total</th>\n",
              "    </tr>\n",
              "  </thead>\n",
              "  <tbody>\n",
              "    <tr>\n",
              "      <th>4</th>\n",
              "      <td>Abomination</td>\n",
              "      <td>bad</td>\n",
              "      <td>63.0</td>\n",
              "      <td>80.0</td>\n",
              "      <td>53.0</td>\n",
              "      <td>90.0</td>\n",
              "      <td>55.0</td>\n",
              "      <td>95.0</td>\n",
              "      <td>436.0</td>\n",
              "    </tr>\n",
              "    <tr>\n",
              "      <th>5</th>\n",
              "      <td>Abraxas</td>\n",
              "      <td>bad</td>\n",
              "      <td>88.0</td>\n",
              "      <td>100.0</td>\n",
              "      <td>83.0</td>\n",
              "      <td>99.0</td>\n",
              "      <td>100.0</td>\n",
              "      <td>56.0</td>\n",
              "      <td>526.0</td>\n",
              "    </tr>\n",
              "    <tr>\n",
              "      <th>11</th>\n",
              "      <td>Air-Walker</td>\n",
              "      <td>bad</td>\n",
              "      <td>50.0</td>\n",
              "      <td>85.0</td>\n",
              "      <td>100.0</td>\n",
              "      <td>85.0</td>\n",
              "      <td>100.0</td>\n",
              "      <td>40.0</td>\n",
              "      <td>460.0</td>\n",
              "    </tr>\n",
              "    <tr>\n",
              "      <th>16</th>\n",
              "      <td>Amazo</td>\n",
              "      <td>bad</td>\n",
              "      <td>75.0</td>\n",
              "      <td>100.0</td>\n",
              "      <td>100.0</td>\n",
              "      <td>100.0</td>\n",
              "      <td>100.0</td>\n",
              "      <td>100.0</td>\n",
              "      <td>575.0</td>\n",
              "    </tr>\n",
              "    <tr>\n",
              "      <th>17</th>\n",
              "      <td>Ammo</td>\n",
              "      <td>bad</td>\n",
              "      <td>63.0</td>\n",
              "      <td>32.0</td>\n",
              "      <td>33.0</td>\n",
              "      <td>56.0</td>\n",
              "      <td>58.0</td>\n",
              "      <td>64.0</td>\n",
              "      <td>306.0</td>\n",
              "    </tr>\n",
              "    <tr>\n",
              "      <th>21</th>\n",
              "      <td>Angela</td>\n",
              "      <td>bad</td>\n",
              "      <td>63.0</td>\n",
              "      <td>32.0</td>\n",
              "      <td>33.0</td>\n",
              "      <td>56.0</td>\n",
              "      <td>58.0</td>\n",
              "      <td>64.0</td>\n",
              "      <td>306.0</td>\n",
              "    </tr>\n",
              "    <tr>\n",
              "      <th>23</th>\n",
              "      <td>Annihilus</td>\n",
              "      <td>bad</td>\n",
              "      <td>75.0</td>\n",
              "      <td>80.0</td>\n",
              "      <td>47.0</td>\n",
              "      <td>56.0</td>\n",
              "      <td>59.0</td>\n",
              "      <td>64.0</td>\n",
              "      <td>381.0</td>\n",
              "    </tr>\n",
              "    <tr>\n",
              "      <th>26</th>\n",
              "      <td>Anti-Monitor</td>\n",
              "      <td>bad</td>\n",
              "      <td>88.0</td>\n",
              "      <td>90.0</td>\n",
              "      <td>38.0</td>\n",
              "      <td>90.0</td>\n",
              "      <td>100.0</td>\n",
              "      <td>90.0</td>\n",
              "      <td>496.0</td>\n",
              "    </tr>\n",
              "    <tr>\n",
              "      <th>27</th>\n",
              "      <td>Anti-Spawn</td>\n",
              "      <td>bad</td>\n",
              "      <td>63.0</td>\n",
              "      <td>32.0</td>\n",
              "      <td>33.0</td>\n",
              "      <td>56.0</td>\n",
              "      <td>58.0</td>\n",
              "      <td>64.0</td>\n",
              "      <td>306.0</td>\n",
              "    </tr>\n",
              "    <tr>\n",
              "      <th>29</th>\n",
              "      <td>Apocalypse</td>\n",
              "      <td>bad</td>\n",
              "      <td>100.0</td>\n",
              "      <td>100.0</td>\n",
              "      <td>33.0</td>\n",
              "      <td>100.0</td>\n",
              "      <td>100.0</td>\n",
              "      <td>60.0</td>\n",
              "      <td>493.0</td>\n",
              "    </tr>\n",
              "  </tbody>\n",
              "</table>\n",
              "</div>"
            ],
            "text/plain": [
              "            Name Alignment  Intelligence  ...  Power  Combat  Total\n",
              "4    Abomination       bad          63.0  ...   55.0    95.0  436.0\n",
              "5        Abraxas       bad          88.0  ...  100.0    56.0  526.0\n",
              "11    Air-Walker       bad          50.0  ...  100.0    40.0  460.0\n",
              "16         Amazo       bad          75.0  ...  100.0   100.0  575.0\n",
              "17          Ammo       bad          63.0  ...   58.0    64.0  306.0\n",
              "21        Angela       bad          63.0  ...   58.0    64.0  306.0\n",
              "23     Annihilus       bad          75.0  ...   59.0    64.0  381.0\n",
              "26  Anti-Monitor       bad          88.0  ...  100.0    90.0  496.0\n",
              "27    Anti-Spawn       bad          63.0  ...   58.0    64.0  306.0\n",
              "29    Apocalypse       bad         100.0  ...  100.0    60.0  493.0\n",
              "\n",
              "[10 rows x 9 columns]"
            ]
          },
          "metadata": {},
          "execution_count": 33
        }
      ],
      "metadata": {
        "colab": {
          "base_uri": "https://localhost:8080/"
        },
        "id": "k72kxhrgnKTG",
        "outputId": "d6dd843e-d995-44d0-8afd-875c27419ddb"
      }
    },
    {
      "cell_type": "code",
      "execution_count": null,
      "source": [
        "characteristics = {\n",
        "    0: \"Intelligence\",\n",
        "    1: \"Strength\",\n",
        "    2: \"Speed\",\n",
        "    3: \"Durability\",\n",
        "    4: \"Power\",\n",
        "    5: \"Combat\"\n",
        "}"
      ],
      "outputs": [],
      "metadata": {
        "id": "05iv4TBSnKTG"
      }
    },
    {
      "cell_type": "code",
      "execution_count": null,
      "source": [
        "weakest_characteristic = []\n",
        "for hero in bad_superheros.iloc[:, 2:-1].values:\n",
        "    hero = hero.tolist()\n",
        "    weakest_characteristic.append(characteristics[hero.index(min(hero))])"
      ],
      "outputs": [],
      "metadata": {
        "id": "81EFrejanKTG"
      }
    },
    {
      "cell_type": "code",
      "execution_count": null,
      "source": [
        "bad_superheros[\"Weakest Characteristic\"] = weakest_characteristic\n",
        "bad_superheros.head()"
      ],
      "outputs": [
        {
          "output_type": "stream",
          "name": "stderr",
          "text": [
            "/usr/local/lib/python3.7/dist-packages/ipykernel_launcher.py:1: SettingWithCopyWarning: \n",
            "A value is trying to be set on a copy of a slice from a DataFrame.\n",
            "Try using .loc[row_indexer,col_indexer] = value instead\n",
            "\n",
            "See the caveats in the documentation: https://pandas.pydata.org/pandas-docs/stable/user_guide/indexing.html#returning-a-view-versus-a-copy\n",
            "  \"\"\"Entry point for launching an IPython kernel.\n"
          ]
        },
        {
          "output_type": "execute_result",
          "data": {
            "text/html": [
              "<div>\n",
              "<style scoped>\n",
              "    .dataframe tbody tr th:only-of-type {\n",
              "        vertical-align: middle;\n",
              "    }\n",
              "\n",
              "    .dataframe tbody tr th {\n",
              "        vertical-align: top;\n",
              "    }\n",
              "\n",
              "    .dataframe thead th {\n",
              "        text-align: right;\n",
              "    }\n",
              "</style>\n",
              "<table border=\"1\" class=\"dataframe\">\n",
              "  <thead>\n",
              "    <tr style=\"text-align: right;\">\n",
              "      <th></th>\n",
              "      <th>Name</th>\n",
              "      <th>Alignment</th>\n",
              "      <th>Intelligence</th>\n",
              "      <th>Strength</th>\n",
              "      <th>Speed</th>\n",
              "      <th>Durability</th>\n",
              "      <th>Power</th>\n",
              "      <th>Combat</th>\n",
              "      <th>Total</th>\n",
              "      <th>Weakest Characteristic</th>\n",
              "    </tr>\n",
              "  </thead>\n",
              "  <tbody>\n",
              "    <tr>\n",
              "      <th>4</th>\n",
              "      <td>Abomination</td>\n",
              "      <td>bad</td>\n",
              "      <td>63.0</td>\n",
              "      <td>80.0</td>\n",
              "      <td>53.0</td>\n",
              "      <td>90.0</td>\n",
              "      <td>55.0</td>\n",
              "      <td>95.0</td>\n",
              "      <td>436.0</td>\n",
              "      <td>Speed</td>\n",
              "    </tr>\n",
              "    <tr>\n",
              "      <th>5</th>\n",
              "      <td>Abraxas</td>\n",
              "      <td>bad</td>\n",
              "      <td>88.0</td>\n",
              "      <td>100.0</td>\n",
              "      <td>83.0</td>\n",
              "      <td>99.0</td>\n",
              "      <td>100.0</td>\n",
              "      <td>56.0</td>\n",
              "      <td>526.0</td>\n",
              "      <td>Combat</td>\n",
              "    </tr>\n",
              "    <tr>\n",
              "      <th>11</th>\n",
              "      <td>Air-Walker</td>\n",
              "      <td>bad</td>\n",
              "      <td>50.0</td>\n",
              "      <td>85.0</td>\n",
              "      <td>100.0</td>\n",
              "      <td>85.0</td>\n",
              "      <td>100.0</td>\n",
              "      <td>40.0</td>\n",
              "      <td>460.0</td>\n",
              "      <td>Combat</td>\n",
              "    </tr>\n",
              "    <tr>\n",
              "      <th>16</th>\n",
              "      <td>Amazo</td>\n",
              "      <td>bad</td>\n",
              "      <td>75.0</td>\n",
              "      <td>100.0</td>\n",
              "      <td>100.0</td>\n",
              "      <td>100.0</td>\n",
              "      <td>100.0</td>\n",
              "      <td>100.0</td>\n",
              "      <td>575.0</td>\n",
              "      <td>Intelligence</td>\n",
              "    </tr>\n",
              "    <tr>\n",
              "      <th>17</th>\n",
              "      <td>Ammo</td>\n",
              "      <td>bad</td>\n",
              "      <td>63.0</td>\n",
              "      <td>32.0</td>\n",
              "      <td>33.0</td>\n",
              "      <td>56.0</td>\n",
              "      <td>58.0</td>\n",
              "      <td>64.0</td>\n",
              "      <td>306.0</td>\n",
              "      <td>Strength</td>\n",
              "    </tr>\n",
              "  </tbody>\n",
              "</table>\n",
              "</div>"
            ],
            "text/plain": [
              "           Name Alignment  Intelligence  ...  Combat  Total  Weakest Characteristic\n",
              "4   Abomination       bad          63.0  ...    95.0  436.0                   Speed\n",
              "5       Abraxas       bad          88.0  ...    56.0  526.0                  Combat\n",
              "11   Air-Walker       bad          50.0  ...    40.0  460.0                  Combat\n",
              "16        Amazo       bad          75.0  ...   100.0  575.0            Intelligence\n",
              "17         Ammo       bad          63.0  ...    64.0  306.0                Strength\n",
              "\n",
              "[5 rows x 10 columns]"
            ]
          },
          "metadata": {},
          "execution_count": 36
        }
      ],
      "metadata": {
        "colab": {
          "base_uri": "https://localhost:8080/"
        },
        "id": "-3eve7gjnKTH",
        "outputId": "3ad5cbd9-bb2f-4882-8de4-5a1dc4309bc9"
      }
    },
    {
      "cell_type": "markdown",
      "source": [
        "## Question 15 : A great team needs great diversity, and to be great at everything, get the best hero at each statistical category"
      ],
      "metadata": {
        "id": "O9goL49fnKTH"
      }
    },
    {
      "cell_type": "code",
      "execution_count": null,
      "source": [
        "characteristics = [\"Intelligence\",\"Strength\",\"Speed\",\"Durability\",\"Power\",\"Combat\"]\n",
        "\n",
        "for feature in characteristics:\n",
        "    print(f\"Superheros with {feature}\")\n",
        "    print(good_superheros[good_superheros[feature] == good_superheros[feature].max()], \"\\n\\n\")"
      ],
      "outputs": [
        {
          "output_type": "stream",
          "name": "stdout",
          "text": [
            "Superheros with Intelligence\n",
            "                  Name Alignment  Intelligence  ...  Combat  Total  Unmatched Rivals\n",
            "24             Ant-Man      good         100.0  ...    32.0  225.0               143\n",
            "61              Batman      good         100.0  ...   100.0  324.0                56\n",
            "123         Brainiac 5      good         100.0  ...    32.0  253.0               136\n",
            "138     Captain Marvel      good         100.0  ...    56.0  480.0                18\n",
            "198     Doctor Strange      good         100.0  ...    60.0  366.0                46\n",
            "299           Iron Man      good         100.0  ...    64.0  492.0                16\n",
            "306          Jean Grey      good         100.0  ...    70.0  517.0                10\n",
            "361  Martian Manhunter      good         100.0  ...    85.0  581.0                 0\n",
            "384   Mister Fantastic      good         100.0  ...    64.0  294.0               110\n",
            "417               Nova      good         100.0  ...    85.0  538.0                 6\n",
            "433            Phoenix      good         100.0  ...    70.0  517.0                10\n",
            "440        Professor X      good         100.0  ...    32.0  256.0               133\n",
            "537           Superman      good         100.0  ...    85.0  579.0                 0\n",
            "578             Vision      good         100.0  ...    70.0  467.0                19\n",
            "589            Watcher      good         100.0  ...    56.0  492.0                16\n",
            "\n",
            "[15 rows x 10 columns] \n",
            "\n",
            "\n",
            "Superheros with Strength\n",
            "                  Name Alignment  Intelligence  ...  Combat  Total  Unmatched Rivals\n",
            "1               A-Bomb      good          38.0  ...    64.0  316.0                58\n",
            "70            Beyonder      good          88.0  ...    56.0  467.0                19\n",
            "138     Captain Marvel      good         100.0  ...    56.0  480.0                18\n",
            "251               Goku      good          56.0  ...   100.0  521.0                10\n",
            "281           Hercules      good          63.0  ...   100.0  461.0                19\n",
            "288               Hulk      good          88.0  ...    85.0  461.0                19\n",
            "361  Martian Manhunter      good         100.0  ...    85.0  581.0                 0\n",
            "491           She-Hulk      good          69.0  ...    70.0  414.0                33\n",
            "499      Silver Surfer      good          63.0  ...    32.0  480.0                18\n",
            "537           Superman      good         100.0  ...    85.0  579.0                 0\n",
            "546               Thor      good          69.0  ...    85.0  546.0                 3\n",
            "599         Wonder Man      good          75.0  ...    64.0  446.0                24\n",
            "600       Wonder Woman      good          88.0  ...   100.0  480.0                18\n",
            "608               Ymir      good          50.0  ...    28.0  388.0                35\n",
            "\n",
            "[14 rows x 10 columns] \n",
            "\n",
            "\n",
            "Superheros with Speed\n",
            "               Name Alignment  Intelligence  ...  Combat  Total  Unmatched Rivals\n",
            "85       Black Bolt      good          75.0  ...    56.0  482.0                18\n",
            "229         Flash I      good          63.0  ...    32.0  312.0                60\n",
            "230        Flash II      good          63.0  ...    32.0  331.0                54\n",
            "231       Flash III      good          63.0  ...    32.0  348.0                51\n",
            "232        Flash IV      good          63.0  ...    48.0  312.0                60\n",
            "295         Impulse      good          50.0  ...    60.0  343.0                51\n",
            "304  Jack of Hearts      good          63.0  ...    30.0  348.0                51\n",
            "333          Krypto      good           9.0  ...    40.0  391.0                35\n",
            "418            Nova      good          38.0  ...    25.0  423.0                30\n",
            "447     Quicksilver      good          63.0  ...    56.0  364.0                47\n",
            "525        Stardust      good          88.0  ...    85.0  568.0                 3\n",
            "537        Superman      good         100.0  ...    85.0  579.0                 0\n",
            "\n",
            "[12 rows x 10 columns] \n",
            "\n",
            "\n",
            "Superheros with Durability\n",
            "         Name Alignment  Intelligence  ...  Combat  Total  Unmatched Rivals\n",
            "525  Stardust      good          88.0  ...    85.0  568.0                 3\n",
            "\n",
            "[1 rows x 10 columns] \n",
            "\n",
            "\n",
            "Superheros with Power\n",
            "                  Name Alignment  Intelligence  ...  Combat  Total  Unmatched Rivals\n",
            "69       Beta Ray Bill      good          63.0  ...    84.0  457.0                21\n",
            "70            Beyonder      good          88.0  ...    56.0  467.0                19\n",
            "85          Black Bolt      good          75.0  ...    56.0  482.0                18\n",
            "129              Cable      good          88.0  ...    80.0  395.0                35\n",
            "185            Deadman      good          50.0  ...    42.0  335.0                53\n",
            "196        Doctor Fate      good          81.0  ...    50.0  352.0                49\n",
            "198     Doctor Strange      good         100.0  ...    60.0  366.0                46\n",
            "204       Dr Manhattan      good          88.0  ...    42.0  399.0                34\n",
            "226          Firestorm      good          50.0  ...    42.0  359.0                48\n",
            "251               Goku      good          56.0  ...   100.0  521.0                10\n",
            "266         Hal Jordan      good          63.0  ...    56.0  426.0                29\n",
            "294             Iceman      good          63.0  ...    64.0  412.0                34\n",
            "299           Iron Man      good         100.0  ...    64.0  492.0                16\n",
            "306          Jean Grey      good         100.0  ...    70.0  517.0                10\n",
            "327            Kilowog      good          81.0  ...    80.0  446.0                24\n",
            "361  Martian Manhunter      good         100.0  ...    85.0  581.0                 0\n",
            "362        Marvel Girl      good          63.0  ...    80.0  417.0                31\n",
            "383       Miss Martian      good          63.0  ...    45.0  451.0                21\n",
            "408     Naruto Uzumaki      good          50.0  ...   100.0  442.0                26\n",
            "417               Nova      good         100.0  ...    85.0  538.0                 6\n",
            "418               Nova      good          38.0  ...    25.0  423.0                30\n",
            "419          Offspring      good          50.0  ...    56.0  350.0                51\n",
            "433            Phoenix      good         100.0  ...    70.0  517.0                10\n",
            "435        Plastic Man      good          50.0  ...    56.0  392.0                35\n",
            "487        Shadow King      good          75.0  ...    75.0  389.0                35\n",
            "499      Silver Surfer      good          63.0  ...    32.0  480.0                18\n",
            "511              Spawn      good          75.0  ...    95.0  470.0                19\n",
            "525           Stardust      good          88.0  ...    85.0  568.0                 3\n",
            "546               Thor      good          69.0  ...    85.0  546.0                 3\n",
            "547          Thor Girl      good          75.0  ...    70.0  482.0                18\n",
            "583        War Machine      good          63.0  ...    85.0  491.0                16\n",
            "589            Watcher      good         100.0  ...    56.0  492.0                16\n",
            "609            Zatanna      good          75.0  ...    56.0  292.0               110\n",
            "\n",
            "[33 rows x 10 columns] \n",
            "\n",
            "\n",
            "Superheros with Combat\n",
            "    Name Alignment  Intelligence  ...  Combat  Total  Unmatched Rivals\n",
            "36  Ares      good          75.0  ...   101.0  435.0                27\n",
            "\n",
            "[1 rows x 10 columns] \n",
            "\n",
            "\n"
          ]
        }
      ],
      "metadata": {
        "colab": {
          "base_uri": "https://localhost:8080/"
        },
        "id": "NRaEp1DEnKTH",
        "outputId": "8d679f38-2b8d-4c2e-de39-e76031fba950"
      }
    },
    {
      "cell_type": "markdown",
      "source": [
        "## Is your strength and intelligence related?\n",
        "## Question 16 : Show a scatter chart where the x axis is stength, and the y axis is intelligence, scatter heros and villans as two different color dots"
      ],
      "metadata": {
        "id": "wucTJTO8nKTH"
      }
    },
    {
      "cell_type": "code",
      "execution_count": null,
      "source": [
        "all_data = pd.concat([good_superheros, bad_superheros])"
      ],
      "outputs": [],
      "metadata": {
        "id": "sovLHhuXnKTI"
      }
    },
    {
      "cell_type": "code",
      "execution_count": null,
      "source": [
        "plt.figure(figsize=(12, 6), dpi=100)\n",
        "sns.scatterplot(x=\"Strength\", y=\"Intelligence\", hue=\"Alignment\",size=\"Total\", data=all_data)\n",
        "plt.legend(loc='center left', bbox_to_anchor=(1, 0.5))\n",
        "plt.title(\"Strength vs Intelligence\")\n",
        "plt.show()"
      ],
      "outputs": [
        {
          "output_type": "display_data",
          "data": {
            "image/png": "[encoded data removed]",
            "text/plain": [
              "<Figure size 1200x600 with 1 Axes>"
            ]
          },
          "metadata": {
            "needs_background": "light"
          }
        }
      ],
      "metadata": {
        "colab": {
          "base_uri": "https://localhost:8080/"
        },
        "id": "Z-LoTNpUnKTI",
        "outputId": "b52d9909-7f0a-4b5c-9a2a-e87d78b4a9e3"
      }
    },
    {
      "cell_type": "markdown",
      "source": [
        "## Question 17 : To truly be a great superhero, you need to possess multipule abilities. Create a series of every superhero and how many different abilities they possess, in descending order"
      ],
      "metadata": {
        "id": "Q0PJq6eInKTI"
      }
    },
    {
      "cell_type": "code",
      "execution_count": null,
      "source": [
        "print(superheroes_power_matrix.columns.tolist())"
      ],
      "outputs": [
        {
          "output_type": "stream",
          "name": "stdout",
          "text": [
            "['Name', 'Agility', 'Accelerated Healing', 'Lantern Power Ring', 'Dimensional Awareness', 'Cold Resistance', 'Durability', 'Stealth', 'Energy Absorption', 'Flight', 'Danger Sense', 'Underwater breathing', 'Marksmanship', 'Weapons Master', 'Power Augmentation', 'Animal Attributes', 'Longevity', 'Intelligence', 'Super Strength', 'Cryokinesis', 'Telepathy', 'Energy Armor', 'Energy Blasts', 'Duplication', 'Size Changing', 'Density Control', 'Stamina', 'Astral Travel', 'Audio Control', 'Dexterity', 'Omnitrix', 'Super Speed', 'Possession', 'Animal Oriented Powers', 'Weapon-based Powers', 'Electrokinesis', 'Darkforce Manipulation', 'Death Touch', 'Teleportation', 'Enhanced Senses', 'Telekinesis', 'Energy Beams', 'Magic', 'Hyperkinesis', 'Jump', 'Clairvoyance', 'Dimensional Travel', 'Power Sense', 'Shapeshifting', 'Peak Human Condition', 'Immortality', 'Camouflage', 'Element Control', 'Phasing', 'Astral Projection', 'Electrical Transport', 'Fire Control', 'Projection', 'Summoning', 'Enhanced Memory', 'Reflexes', 'Invulnerability', 'Energy Constructs', 'Force Fields', 'Self-Sustenance', 'Anti-Gravity', 'Empathy', 'Power Nullifier', 'Radiation Control', 'Psionic Powers', 'Elasticity', 'Substance Secretion', 'Elemental Transmogrification', 'Technopath/Cyberpath', 'Photographic Reflexes', 'Seismic Power', 'Animation', 'Precognition', 'Mind Control', 'Fire Resistance', 'Power Absorption', 'Enhanced Hearing', 'Nova Force', 'Insanity', 'Hypnokinesis', 'Animal Control', 'Natural Armor', 'Intangibility', 'Enhanced Sight', 'Molecular Manipulation', 'Heat Generation', 'Adaptation', 'Gliding', 'Power Suit', 'Mind Blast', 'Probability Manipulation', 'Gravity Control', 'Regeneration', 'Light Control', 'Echolocation', 'Levitation', 'Toxin and Disease Control', 'Banish', 'Energy Manipulation', 'Heat Resistance', 'Natural Weapons', 'Time Travel', 'Enhanced Smell', 'Illusions', 'Thirstokinesis', 'Hair Manipulation', 'Illumination', 'Omnipotent', 'Cloaking', 'Changing Armor', 'Power Cosmic', 'Biokinesis', 'Water Control', 'Radiation Immunity', 'Vision - Telescopic', 'Toxin and Disease Resistance', 'Spatial Awareness', 'Energy Resistance', 'Telepathy Resistance', 'Molecular Combustion', 'Omnilingualism', 'Portal Creation', 'Magnetism', 'Mind Control Resistance', 'Plant Control', 'Sonar', 'Sonic Scream', 'Time Manipulation', 'Enhanced Touch', 'Magic Resistance', 'Invisibility', 'Sub-Mariner', 'Radiation Absorption', 'Intuitive aptitude', 'Vision - Microscopic', 'Melting', 'Wind Control', 'Super Breath', 'Wallcrawling', 'Vision - Night', 'Vision - Infrared', 'Grim Reaping', 'Matter Absorption', 'The Force', 'Resurrection', 'Terrakinesis', 'Vision - Heat', 'Vitakinesis', 'Radar Sense', 'Qwardian Power Ring', 'Weather Control', 'Vision - X-Ray', 'Vision - Thermal', 'Web Creation', 'Reality Warping', 'Odin Force', 'Symbiote Costume', 'Speed Force', 'Phoenix Force', 'Molecular Dissipation', 'Vision - Cryo', 'Omnipresent', 'Omniscient']\n"
          ]
        }
      ],
      "metadata": {
        "colab": {
          "base_uri": "https://localhost:8080/"
        },
        "id": "n6UkVjGlnKTI",
        "outputId": "6e8b47b6-3d9d-435d-ed18-101b92c1a886"
      }
    },
    {
      "cell_type": "code",
      "execution_count": null,
      "source": [
        "superheroes_power_matrix.head()"
      ],
      "outputs": [
        {
          "output_type": "execute_result",
          "data": {
            "text/html": [
              "<div>\n",
              "<style scoped>\n",
              "    .dataframe tbody tr th:only-of-type {\n",
              "        vertical-align: middle;\n",
              "    }\n",
              "\n",
              "    .dataframe tbody tr th {\n",
              "        vertical-align: top;\n",
              "    }\n",
              "\n",
              "    .dataframe thead th {\n",
              "        text-align: right;\n",
              "    }\n",
              "</style>\n",
              "<table border=\"1\" class=\"dataframe\">\n",
              "  <thead>\n",
              "    <tr style=\"text-align: right;\">\n",
              "      <th></th>\n",
              "      <th>Name</th>\n",
              "      <th>Agility</th>\n",
              "      <th>Accelerated Healing</th>\n",
              "      <th>Lantern Power Ring</th>\n",
              "      <th>Dimensional Awareness</th>\n",
              "      <th>Cold Resistance</th>\n",
              "      <th>Durability</th>\n",
              "      <th>Stealth</th>\n",
              "      <th>Energy Absorption</th>\n",
              "      <th>Flight</th>\n",
              "      <th>Danger Sense</th>\n",
              "      <th>Underwater breathing</th>\n",
              "      <th>Marksmanship</th>\n",
              "      <th>Weapons Master</th>\n",
              "      <th>Power Augmentation</th>\n",
              "      <th>Animal Attributes</th>\n",
              "      <th>Longevity</th>\n",
              "      <th>Intelligence</th>\n",
              "      <th>Super Strength</th>\n",
              "      <th>Cryokinesis</th>\n",
              "      <th>Telepathy</th>\n",
              "      <th>Energy Armor</th>\n",
              "      <th>Energy Blasts</th>\n",
              "      <th>Duplication</th>\n",
              "      <th>Size Changing</th>\n",
              "      <th>Density Control</th>\n",
              "      <th>Stamina</th>\n",
              "      <th>Astral Travel</th>\n",
              "      <th>Audio Control</th>\n",
              "      <th>Dexterity</th>\n",
              "      <th>Omnitrix</th>\n",
              "      <th>Super Speed</th>\n",
              "      <th>Possession</th>\n",
              "      <th>Animal Oriented Powers</th>\n",
              "      <th>Weapon-based Powers</th>\n",
              "      <th>Electrokinesis</th>\n",
              "      <th>Darkforce Manipulation</th>\n",
              "      <th>Death Touch</th>\n",
              "      <th>Teleportation</th>\n",
              "      <th>Enhanced Senses</th>\n",
              "      <th>...</th>\n",
              "      <th>Mind Control Resistance</th>\n",
              "      <th>Plant Control</th>\n",
              "      <th>Sonar</th>\n",
              "      <th>Sonic Scream</th>\n",
              "      <th>Time Manipulation</th>\n",
              "      <th>Enhanced Touch</th>\n",
              "      <th>Magic Resistance</th>\n",
              "      <th>Invisibility</th>\n",
              "      <th>Sub-Mariner</th>\n",
              "      <th>Radiation Absorption</th>\n",
              "      <th>Intuitive aptitude</th>\n",
              "      <th>Vision - Microscopic</th>\n",
              "      <th>Melting</th>\n",
              "      <th>Wind Control</th>\n",
              "      <th>Super Breath</th>\n",
              "      <th>Wallcrawling</th>\n",
              "      <th>Vision - Night</th>\n",
              "      <th>Vision - Infrared</th>\n",
              "      <th>Grim Reaping</th>\n",
              "      <th>Matter Absorption</th>\n",
              "      <th>The Force</th>\n",
              "      <th>Resurrection</th>\n",
              "      <th>Terrakinesis</th>\n",
              "      <th>Vision - Heat</th>\n",
              "      <th>Vitakinesis</th>\n",
              "      <th>Radar Sense</th>\n",
              "      <th>Qwardian Power Ring</th>\n",
              "      <th>Weather Control</th>\n",
              "      <th>Vision - X-Ray</th>\n",
              "      <th>Vision - Thermal</th>\n",
              "      <th>Web Creation</th>\n",
              "      <th>Reality Warping</th>\n",
              "      <th>Odin Force</th>\n",
              "      <th>Symbiote Costume</th>\n",
              "      <th>Speed Force</th>\n",
              "      <th>Phoenix Force</th>\n",
              "      <th>Molecular Dissipation</th>\n",
              "      <th>Vision - Cryo</th>\n",
              "      <th>Omnipresent</th>\n",
              "      <th>Omniscient</th>\n",
              "    </tr>\n",
              "  </thead>\n",
              "  <tbody>\n",
              "    <tr>\n",
              "      <th>0</th>\n",
              "      <td>3-D Man</td>\n",
              "      <td>True</td>\n",
              "      <td>False</td>\n",
              "      <td>False</td>\n",
              "      <td>False</td>\n",
              "      <td>False</td>\n",
              "      <td>False</td>\n",
              "      <td>False</td>\n",
              "      <td>False</td>\n",
              "      <td>False</td>\n",
              "      <td>False</td>\n",
              "      <td>False</td>\n",
              "      <td>False</td>\n",
              "      <td>False</td>\n",
              "      <td>False</td>\n",
              "      <td>False</td>\n",
              "      <td>False</td>\n",
              "      <td>False</td>\n",
              "      <td>True</td>\n",
              "      <td>False</td>\n",
              "      <td>False</td>\n",
              "      <td>False</td>\n",
              "      <td>False</td>\n",
              "      <td>False</td>\n",
              "      <td>False</td>\n",
              "      <td>False</td>\n",
              "      <td>True</td>\n",
              "      <td>False</td>\n",
              "      <td>False</td>\n",
              "      <td>False</td>\n",
              "      <td>False</td>\n",
              "      <td>True</td>\n",
              "      <td>False</td>\n",
              "      <td>False</td>\n",
              "      <td>False</td>\n",
              "      <td>False</td>\n",
              "      <td>False</td>\n",
              "      <td>False</td>\n",
              "      <td>False</td>\n",
              "      <td>False</td>\n",
              "      <td>...</td>\n",
              "      <td>False</td>\n",
              "      <td>False</td>\n",
              "      <td>False</td>\n",
              "      <td>False</td>\n",
              "      <td>False</td>\n",
              "      <td>False</td>\n",
              "      <td>False</td>\n",
              "      <td>False</td>\n",
              "      <td>False</td>\n",
              "      <td>False</td>\n",
              "      <td>False</td>\n",
              "      <td>False</td>\n",
              "      <td>False</td>\n",
              "      <td>False</td>\n",
              "      <td>False</td>\n",
              "      <td>False</td>\n",
              "      <td>False</td>\n",
              "      <td>False</td>\n",
              "      <td>False</td>\n",
              "      <td>False</td>\n",
              "      <td>False</td>\n",
              "      <td>False</td>\n",
              "      <td>False</td>\n",
              "      <td>False</td>\n",
              "      <td>False</td>\n",
              "      <td>False</td>\n",
              "      <td>False</td>\n",
              "      <td>False</td>\n",
              "      <td>False</td>\n",
              "      <td>False</td>\n",
              "      <td>False</td>\n",
              "      <td>False</td>\n",
              "      <td>False</td>\n",
              "      <td>False</td>\n",
              "      <td>False</td>\n",
              "      <td>False</td>\n",
              "      <td>False</td>\n",
              "      <td>False</td>\n",
              "      <td>False</td>\n",
              "      <td>False</td>\n",
              "    </tr>\n",
              "    <tr>\n",
              "      <th>1</th>\n",
              "      <td>A-Bomb</td>\n",
              "      <td>False</td>\n",
              "      <td>True</td>\n",
              "      <td>False</td>\n",
              "      <td>False</td>\n",
              "      <td>False</td>\n",
              "      <td>True</td>\n",
              "      <td>False</td>\n",
              "      <td>False</td>\n",
              "      <td>False</td>\n",
              "      <td>False</td>\n",
              "      <td>False</td>\n",
              "      <td>False</td>\n",
              "      <td>False</td>\n",
              "      <td>False</td>\n",
              "      <td>False</td>\n",
              "      <td>True</td>\n",
              "      <td>False</td>\n",
              "      <td>True</td>\n",
              "      <td>False</td>\n",
              "      <td>False</td>\n",
              "      <td>False</td>\n",
              "      <td>False</td>\n",
              "      <td>False</td>\n",
              "      <td>False</td>\n",
              "      <td>False</td>\n",
              "      <td>True</td>\n",
              "      <td>False</td>\n",
              "      <td>False</td>\n",
              "      <td>False</td>\n",
              "      <td>False</td>\n",
              "      <td>False</td>\n",
              "      <td>False</td>\n",
              "      <td>False</td>\n",
              "      <td>False</td>\n",
              "      <td>False</td>\n",
              "      <td>False</td>\n",
              "      <td>False</td>\n",
              "      <td>False</td>\n",
              "      <td>False</td>\n",
              "      <td>...</td>\n",
              "      <td>False</td>\n",
              "      <td>False</td>\n",
              "      <td>False</td>\n",
              "      <td>False</td>\n",
              "      <td>False</td>\n",
              "      <td>False</td>\n",
              "      <td>False</td>\n",
              "      <td>False</td>\n",
              "      <td>False</td>\n",
              "      <td>False</td>\n",
              "      <td>False</td>\n",
              "      <td>False</td>\n",
              "      <td>False</td>\n",
              "      <td>False</td>\n",
              "      <td>False</td>\n",
              "      <td>False</td>\n",
              "      <td>False</td>\n",
              "      <td>False</td>\n",
              "      <td>False</td>\n",
              "      <td>False</td>\n",
              "      <td>False</td>\n",
              "      <td>False</td>\n",
              "      <td>False</td>\n",
              "      <td>False</td>\n",
              "      <td>False</td>\n",
              "      <td>False</td>\n",
              "      <td>False</td>\n",
              "      <td>False</td>\n",
              "      <td>False</td>\n",
              "      <td>False</td>\n",
              "      <td>False</td>\n",
              "      <td>False</td>\n",
              "      <td>False</td>\n",
              "      <td>False</td>\n",
              "      <td>False</td>\n",
              "      <td>False</td>\n",
              "      <td>False</td>\n",
              "      <td>False</td>\n",
              "      <td>False</td>\n",
              "      <td>False</td>\n",
              "    </tr>\n",
              "    <tr>\n",
              "      <th>2</th>\n",
              "      <td>Abe Sapien</td>\n",
              "      <td>True</td>\n",
              "      <td>True</td>\n",
              "      <td>False</td>\n",
              "      <td>False</td>\n",
              "      <td>True</td>\n",
              "      <td>True</td>\n",
              "      <td>False</td>\n",
              "      <td>False</td>\n",
              "      <td>False</td>\n",
              "      <td>False</td>\n",
              "      <td>True</td>\n",
              "      <td>True</td>\n",
              "      <td>True</td>\n",
              "      <td>False</td>\n",
              "      <td>False</td>\n",
              "      <td>True</td>\n",
              "      <td>True</td>\n",
              "      <td>True</td>\n",
              "      <td>False</td>\n",
              "      <td>True</td>\n",
              "      <td>False</td>\n",
              "      <td>False</td>\n",
              "      <td>False</td>\n",
              "      <td>False</td>\n",
              "      <td>False</td>\n",
              "      <td>True</td>\n",
              "      <td>False</td>\n",
              "      <td>False</td>\n",
              "      <td>False</td>\n",
              "      <td>False</td>\n",
              "      <td>False</td>\n",
              "      <td>False</td>\n",
              "      <td>False</td>\n",
              "      <td>False</td>\n",
              "      <td>False</td>\n",
              "      <td>False</td>\n",
              "      <td>False</td>\n",
              "      <td>False</td>\n",
              "      <td>False</td>\n",
              "      <td>...</td>\n",
              "      <td>False</td>\n",
              "      <td>False</td>\n",
              "      <td>False</td>\n",
              "      <td>False</td>\n",
              "      <td>False</td>\n",
              "      <td>False</td>\n",
              "      <td>False</td>\n",
              "      <td>False</td>\n",
              "      <td>True</td>\n",
              "      <td>False</td>\n",
              "      <td>False</td>\n",
              "      <td>False</td>\n",
              "      <td>False</td>\n",
              "      <td>False</td>\n",
              "      <td>False</td>\n",
              "      <td>False</td>\n",
              "      <td>False</td>\n",
              "      <td>False</td>\n",
              "      <td>False</td>\n",
              "      <td>False</td>\n",
              "      <td>False</td>\n",
              "      <td>False</td>\n",
              "      <td>False</td>\n",
              "      <td>False</td>\n",
              "      <td>False</td>\n",
              "      <td>False</td>\n",
              "      <td>False</td>\n",
              "      <td>False</td>\n",
              "      <td>False</td>\n",
              "      <td>False</td>\n",
              "      <td>False</td>\n",
              "      <td>False</td>\n",
              "      <td>False</td>\n",
              "      <td>False</td>\n",
              "      <td>False</td>\n",
              "      <td>False</td>\n",
              "      <td>False</td>\n",
              "      <td>False</td>\n",
              "      <td>False</td>\n",
              "      <td>False</td>\n",
              "    </tr>\n",
              "    <tr>\n",
              "      <th>3</th>\n",
              "      <td>Abin Sur</td>\n",
              "      <td>False</td>\n",
              "      <td>False</td>\n",
              "      <td>True</td>\n",
              "      <td>False</td>\n",
              "      <td>False</td>\n",
              "      <td>False</td>\n",
              "      <td>False</td>\n",
              "      <td>False</td>\n",
              "      <td>False</td>\n",
              "      <td>False</td>\n",
              "      <td>False</td>\n",
              "      <td>False</td>\n",
              "      <td>False</td>\n",
              "      <td>False</td>\n",
              "      <td>False</td>\n",
              "      <td>False</td>\n",
              "      <td>False</td>\n",
              "      <td>False</td>\n",
              "      <td>False</td>\n",
              "      <td>False</td>\n",
              "      <td>False</td>\n",
              "      <td>False</td>\n",
              "      <td>False</td>\n",
              "      <td>False</td>\n",
              "      <td>False</td>\n",
              "      <td>False</td>\n",
              "      <td>False</td>\n",
              "      <td>False</td>\n",
              "      <td>False</td>\n",
              "      <td>False</td>\n",
              "      <td>False</td>\n",
              "      <td>False</td>\n",
              "      <td>False</td>\n",
              "      <td>False</td>\n",
              "      <td>False</td>\n",
              "      <td>False</td>\n",
              "      <td>False</td>\n",
              "      <td>False</td>\n",
              "      <td>False</td>\n",
              "      <td>...</td>\n",
              "      <td>False</td>\n",
              "      <td>False</td>\n",
              "      <td>False</td>\n",
              "      <td>False</td>\n",
              "      <td>False</td>\n",
              "      <td>False</td>\n",
              "      <td>False</td>\n",
              "      <td>False</td>\n",
              "      <td>False</td>\n",
              "      <td>False</td>\n",
              "      <td>False</td>\n",
              "      <td>False</td>\n",
              "      <td>False</td>\n",
              "      <td>False</td>\n",
              "      <td>False</td>\n",
              "      <td>False</td>\n",
              "      <td>False</td>\n",
              "      <td>False</td>\n",
              "      <td>False</td>\n",
              "      <td>False</td>\n",
              "      <td>False</td>\n",
              "      <td>False</td>\n",
              "      <td>False</td>\n",
              "      <td>False</td>\n",
              "      <td>False</td>\n",
              "      <td>False</td>\n",
              "      <td>False</td>\n",
              "      <td>False</td>\n",
              "      <td>False</td>\n",
              "      <td>False</td>\n",
              "      <td>False</td>\n",
              "      <td>False</td>\n",
              "      <td>False</td>\n",
              "      <td>False</td>\n",
              "      <td>False</td>\n",
              "      <td>False</td>\n",
              "      <td>False</td>\n",
              "      <td>False</td>\n",
              "      <td>False</td>\n",
              "      <td>False</td>\n",
              "    </tr>\n",
              "    <tr>\n",
              "      <th>4</th>\n",
              "      <td>Abomination</td>\n",
              "      <td>False</td>\n",
              "      <td>True</td>\n",
              "      <td>False</td>\n",
              "      <td>False</td>\n",
              "      <td>False</td>\n",
              "      <td>False</td>\n",
              "      <td>False</td>\n",
              "      <td>False</td>\n",
              "      <td>False</td>\n",
              "      <td>False</td>\n",
              "      <td>False</td>\n",
              "      <td>False</td>\n",
              "      <td>False</td>\n",
              "      <td>False</td>\n",
              "      <td>False</td>\n",
              "      <td>False</td>\n",
              "      <td>True</td>\n",
              "      <td>True</td>\n",
              "      <td>False</td>\n",
              "      <td>False</td>\n",
              "      <td>False</td>\n",
              "      <td>False</td>\n",
              "      <td>False</td>\n",
              "      <td>False</td>\n",
              "      <td>False</td>\n",
              "      <td>True</td>\n",
              "      <td>False</td>\n",
              "      <td>False</td>\n",
              "      <td>False</td>\n",
              "      <td>False</td>\n",
              "      <td>True</td>\n",
              "      <td>False</td>\n",
              "      <td>False</td>\n",
              "      <td>False</td>\n",
              "      <td>False</td>\n",
              "      <td>False</td>\n",
              "      <td>False</td>\n",
              "      <td>False</td>\n",
              "      <td>False</td>\n",
              "      <td>...</td>\n",
              "      <td>False</td>\n",
              "      <td>False</td>\n",
              "      <td>False</td>\n",
              "      <td>False</td>\n",
              "      <td>False</td>\n",
              "      <td>False</td>\n",
              "      <td>False</td>\n",
              "      <td>False</td>\n",
              "      <td>False</td>\n",
              "      <td>False</td>\n",
              "      <td>False</td>\n",
              "      <td>False</td>\n",
              "      <td>False</td>\n",
              "      <td>False</td>\n",
              "      <td>True</td>\n",
              "      <td>False</td>\n",
              "      <td>False</td>\n",
              "      <td>False</td>\n",
              "      <td>False</td>\n",
              "      <td>False</td>\n",
              "      <td>False</td>\n",
              "      <td>False</td>\n",
              "      <td>False</td>\n",
              "      <td>False</td>\n",
              "      <td>False</td>\n",
              "      <td>False</td>\n",
              "      <td>False</td>\n",
              "      <td>False</td>\n",
              "      <td>False</td>\n",
              "      <td>False</td>\n",
              "      <td>False</td>\n",
              "      <td>False</td>\n",
              "      <td>False</td>\n",
              "      <td>False</td>\n",
              "      <td>False</td>\n",
              "      <td>False</td>\n",
              "      <td>False</td>\n",
              "      <td>False</td>\n",
              "      <td>False</td>\n",
              "      <td>False</td>\n",
              "    </tr>\n",
              "  </tbody>\n",
              "</table>\n",
              "<p>5 rows × 168 columns</p>\n",
              "</div>"
            ],
            "text/plain": [
              "          Name  Agility  ...  Omnipresent  Omniscient\n",
              "0      3-D Man     True  ...        False       False\n",
              "1       A-Bomb    False  ...        False       False\n",
              "2   Abe Sapien     True  ...        False       False\n",
              "3     Abin Sur    False  ...        False       False\n",
              "4  Abomination    False  ...        False       False\n",
              "\n",
              "[5 rows x 168 columns]"
            ]
          },
          "metadata": {},
          "execution_count": 41
        }
      ],
      "metadata": {
        "colab": {
          "base_uri": "https://localhost:8080/"
        },
        "id": "BkRplg9tnKTI",
        "outputId": "7aed78e1-6f49-4a68-c7e7-2d678f0faf87"
      }
    },
    {
      "cell_type": "code",
      "execution_count": null,
      "source": [
        "total_powers_count = []\n",
        "\n",
        "for record in superheroes_power_matrix.values:\n",
        "    count = 0\n",
        "    for power in record[1:]:\n",
        "        if power == True:\n",
        "            count += 1\n",
        "            \n",
        "    total_powers_count.append(count)\n"
      ],
      "outputs": [],
      "metadata": {
        "id": "Ulp2taWwnKTI"
      }
    },
    {
      "cell_type": "code",
      "execution_count": null,
      "source": [
        "superheroes_power_matrix[\"Total Powers\"] = total_powers_count\n",
        "superheroes_power_matrix.sort_values(by=\"Total Powers\", ascending=False)[[\"Name\", \"Total Powers\"]].head(10)"
      ],
      "outputs": [
        {
          "output_type": "execute_result",
          "data": {
            "text/html": [
              "<div>\n",
              "<style scoped>\n",
              "    .dataframe tbody tr th:only-of-type {\n",
              "        vertical-align: middle;\n",
              "    }\n",
              "\n",
              "    .dataframe tbody tr th {\n",
              "        vertical-align: top;\n",
              "    }\n",
              "\n",
              "    .dataframe thead th {\n",
              "        text-align: right;\n",
              "    }\n",
              "</style>\n",
              "<table border=\"1\" class=\"dataframe\">\n",
              "  <thead>\n",
              "    <tr style=\"text-align: right;\">\n",
              "      <th></th>\n",
              "      <th>Name</th>\n",
              "      <th>Total Powers</th>\n",
              "    </tr>\n",
              "  </thead>\n",
              "  <tbody>\n",
              "    <tr>\n",
              "      <th>563</th>\n",
              "      <td>Spectre</td>\n",
              "      <td>49</td>\n",
              "    </tr>\n",
              "    <tr>\n",
              "      <th>18</th>\n",
              "      <td>Amazo</td>\n",
              "      <td>44</td>\n",
              "    </tr>\n",
              "    <tr>\n",
              "      <th>394</th>\n",
              "      <td>Martian Manhunter</td>\n",
              "      <td>35</td>\n",
              "    </tr>\n",
              "    <tr>\n",
              "      <th>370</th>\n",
              "      <td>Living Tribunal</td>\n",
              "      <td>35</td>\n",
              "    </tr>\n",
              "    <tr>\n",
              "      <th>388</th>\n",
              "      <td>Man of Miracles</td>\n",
              "      <td>34</td>\n",
              "    </tr>\n",
              "    <tr>\n",
              "      <th>139</th>\n",
              "      <td>Captain Marvel</td>\n",
              "      <td>33</td>\n",
              "    </tr>\n",
              "    <tr>\n",
              "      <th>597</th>\n",
              "      <td>T-X</td>\n",
              "      <td>33</td>\n",
              "    </tr>\n",
              "    <tr>\n",
              "      <th>246</th>\n",
              "      <td>Galactus</td>\n",
              "      <td>32</td>\n",
              "    </tr>\n",
              "    <tr>\n",
              "      <th>594</th>\n",
              "      <td>T-1000</td>\n",
              "      <td>32</td>\n",
              "    </tr>\n",
              "    <tr>\n",
              "      <th>455</th>\n",
              "      <td>One-Above-All</td>\n",
              "      <td>31</td>\n",
              "    </tr>\n",
              "  </tbody>\n",
              "</table>\n",
              "</div>"
            ],
            "text/plain": [
              "                  Name  Total Powers\n",
              "563            Spectre            49\n",
              "18               Amazo            44\n",
              "394  Martian Manhunter            35\n",
              "370    Living Tribunal            35\n",
              "388    Man of Miracles            34\n",
              "139     Captain Marvel            33\n",
              "597                T-X            33\n",
              "246           Galactus            32\n",
              "594             T-1000            32\n",
              "455      One-Above-All            31"
            ]
          },
          "metadata": {},
          "execution_count": 43
        }
      ],
      "metadata": {
        "colab": {
          "base_uri": "https://localhost:8080/"
        },
        "id": "m2HJi3zxnKTJ",
        "outputId": "63c4a67d-7b17-48de-b192-b77eef71e905"
      }
    },
    {
      "cell_type": "markdown",
      "source": [
        "## Question 18 : \n",
        "\n",
        "## We saw that the characters with the 'False' intelligence do have a lower intelligence score than the 'True' ones. That means that the 2 different datasets we based our analysis on have a similar evalutaion of characters intelligence in general.\n",
        "\n",
        "## * Can you find characters that one dataset classifies them as intelligent and the other one classifies them as not intelligent?\n",
        "\n",
        "## * How many characters like that are there? (since 1 dataset is boolean and the other is numeric, assume that 100 score equals 'True' and 0 score equals 'False')\n",
        "\n",
        "## * What that might say on those 2 datasets?"
      ],
      "metadata": {
        "id": "ymcWWxM6nKTJ"
      }
    },
    {
      "cell_type": "code",
      "execution_count": null,
      "source": [
        "# superheroes_stats\n",
        "# superheroes_power_matrix"
      ],
      "outputs": [],
      "metadata": {
        "id": "s4se3qQs4T-q"
      }
    },
    {
      "cell_type": "code",
      "execution_count": null,
      "source": [
        "def common_elements(list1, list2):\n",
        "    return [element for element in list1 if element in list2]\n",
        "\n",
        "common_names = common_elements(superheroes_stats.Name.tolist(), superheroes_power_matrix.Name.tolist())\n",
        "common_names.sort()"
      ],
      "outputs": [],
      "metadata": {
        "id": "XDPZVFdc_cFx"
      }
    },
    {
      "cell_type": "code",
      "execution_count": null,
      "source": [
        "intelligence_data = pd.DataFrame()\n",
        "intelligence_data[\"Name\"] = common_names\n",
        "intelligence_data[\"Intelligence Score\"] = superheroes_stats[superheroes_stats.Name.isin(common_names)].sort_values(by=\"Name\").Intelligence\n",
        "intelligence_data[\"Intelligent\"] = superheroes_power_matrix[superheroes_power_matrix.Name.isin(common_names)].sort_values(by=\"Name\").Intelligence"
      ],
      "outputs": [],
      "metadata": {
        "id": "ImBYGdyVApVi"
      }
    },
    {
      "cell_type": "code",
      "execution_count": null,
      "source": [
        "intelligence_data.head(10)"
      ],
      "outputs": [
        {
          "output_type": "execute_result",
          "data": {
            "text/html": [
              "<div>\n",
              "<style scoped>\n",
              "    .dataframe tbody tr th:only-of-type {\n",
              "        vertical-align: middle;\n",
              "    }\n",
              "\n",
              "    .dataframe tbody tr th {\n",
              "        vertical-align: top;\n",
              "    }\n",
              "\n",
              "    .dataframe thead th {\n",
              "        text-align: right;\n",
              "    }\n",
              "</style>\n",
              "<table border=\"1\" class=\"dataframe\">\n",
              "  <thead>\n",
              "    <tr style=\"text-align: right;\">\n",
              "      <th></th>\n",
              "      <th>Name</th>\n",
              "      <th>Intelligence Score</th>\n",
              "      <th>Intelligent</th>\n",
              "    </tr>\n",
              "  </thead>\n",
              "  <tbody>\n",
              "    <tr>\n",
              "      <th>0</th>\n",
              "      <td>3-D Man</td>\n",
              "      <td>50.0</td>\n",
              "      <td>False</td>\n",
              "    </tr>\n",
              "    <tr>\n",
              "      <th>1</th>\n",
              "      <td>A-Bomb</td>\n",
              "      <td>38.0</td>\n",
              "      <td>False</td>\n",
              "    </tr>\n",
              "    <tr>\n",
              "      <th>2</th>\n",
              "      <td>Abe Sapien</td>\n",
              "      <td>88.0</td>\n",
              "      <td>True</td>\n",
              "    </tr>\n",
              "    <tr>\n",
              "      <th>3</th>\n",
              "      <td>Abin Sur</td>\n",
              "      <td>50.0</td>\n",
              "      <td>False</td>\n",
              "    </tr>\n",
              "    <tr>\n",
              "      <th>4</th>\n",
              "      <td>Abomination</td>\n",
              "      <td>63.0</td>\n",
              "      <td>True</td>\n",
              "    </tr>\n",
              "    <tr>\n",
              "      <th>5</th>\n",
              "      <td>Abraxas</td>\n",
              "      <td>88.0</td>\n",
              "      <td>True</td>\n",
              "    </tr>\n",
              "    <tr>\n",
              "      <th>6</th>\n",
              "      <td>Adam Monroe</td>\n",
              "      <td>63.0</td>\n",
              "      <td>NaN</td>\n",
              "    </tr>\n",
              "    <tr>\n",
              "      <th>7</th>\n",
              "      <td>Adam Strange</td>\n",
              "      <td>63.0</td>\n",
              "      <td>False</td>\n",
              "    </tr>\n",
              "    <tr>\n",
              "      <th>8</th>\n",
              "      <td>Agent Bob</td>\n",
              "      <td>NaN</td>\n",
              "      <td>True</td>\n",
              "    </tr>\n",
              "    <tr>\n",
              "      <th>9</th>\n",
              "      <td>Agent Zero</td>\n",
              "      <td>10.0</td>\n",
              "      <td>False</td>\n",
              "    </tr>\n",
              "  </tbody>\n",
              "</table>\n",
              "</div>"
            ],
            "text/plain": [
              "           Name  Intelligence Score Intelligent\n",
              "0       3-D Man                50.0       False\n",
              "1        A-Bomb                38.0       False\n",
              "2    Abe Sapien                88.0        True\n",
              "3      Abin Sur                50.0       False\n",
              "4   Abomination                63.0        True\n",
              "5       Abraxas                88.0        True\n",
              "6   Adam Monroe                63.0         NaN\n",
              "7  Adam Strange                63.0       False\n",
              "8     Agent Bob                 NaN        True\n",
              "9    Agent Zero                10.0       False"
            ]
          },
          "metadata": {},
          "execution_count": 47
        }
      ],
      "metadata": {
        "colab": {
          "base_uri": "https://localhost:8080/",
          "height": 363
        },
        "id": "a5YusnnVBKoU",
        "outputId": "3d42c126-3284-454a-ede3-235d97275227"
      }
    },
    {
      "cell_type": "code",
      "execution_count": null,
      "source": [
        "intelligence_data[\"Intelligence Score\"].fillna(intelligence_data[\"Intelligence Score\"].median(), inplace=True)\n",
        "intelligence_data[\"Intelligent\"].fillna(intelligence_data[\"Intelligent\"].median(), inplace=True)"
      ],
      "outputs": [],
      "metadata": {
        "id": "jRwzgJ4NBkPL"
      }
    },
    {
      "cell_type": "code",
      "execution_count": null,
      "source": [
        "# Let us Consider that Superheros with Intelligence Score Higher than 65 are Intelligent\n",
        "actual_intelligent = []\n",
        "for record in intelligence_data.values:\n",
        "  if record[1] > 65:\n",
        "    actual_intelligent.append(True)\n",
        "  else:\n",
        "    actual_intelligent.append(False)"
      ],
      "outputs": [],
      "metadata": {
        "id": "JUvB2ToUFTi_"
      }
    },
    {
      "cell_type": "code",
      "execution_count": null,
      "source": [
        "intelligence_data[\"Actual Intelligent\"] = actual_intelligent"
      ],
      "outputs": [],
      "metadata": {
        "id": "54YJ49SgF47C"
      }
    },
    {
      "cell_type": "code",
      "execution_count": null,
      "source": [
        "# Charactes Classified as Intelligent by one Dataset but not by Another Dataset\n",
        "intelligence_data.loc[intelligence_data[\"Actual Intelligent\"] != intelligence_data[\"Intelligent\"]].Name"
      ],
      "outputs": [
        {
          "output_type": "execute_result",
          "data": {
            "text/plain": [
              "4           Abomination\n",
              "8             Agent Bob\n",
              "10           Air-Walker\n",
              "13     Allan Quatermain\n",
              "16       Ando Masahashi\n",
              "             ...       \n",
              "502                Wasp\n",
              "509         Wonder Girl\n",
              "510          Wonder Man\n",
              "511        Wonder Woman\n",
              "517             Zatanna\n",
              "Name: Name, Length: 168, dtype: object"
            ]
          },
          "metadata": {},
          "execution_count": 51
        }
      ],
      "metadata": {
        "colab": {
          "base_uri": "https://localhost:8080/"
        },
        "id": "Aj73yY_RGBzt",
        "outputId": "45675522-b854-4e93-bd04-9b25a4f453ff"
      }
    },
    {
      "cell_type": "code",
      "execution_count": null,
      "source": [
        "intelligence_data.loc[intelligence_data[\"Actual Intelligent\"] != intelligence_data[\"Intelligent\"]].Name.count()"
      ],
      "outputs": [
        {
          "output_type": "execute_result",
          "data": {
            "text/plain": [
              "168"
            ]
          },
          "metadata": {},
          "execution_count": 52
        }
      ],
      "metadata": {
        "colab": {
          "base_uri": "https://localhost:8080/"
        },
        "id": "Q4KX05PeGUtQ",
        "outputId": "a1c49411-2285-44ea-e3ea-ebc7b8faf876"
      }
    },
    {
      "cell_type": "markdown",
      "source": [
        "## Question 19 : show the distribution of BMI for all characters with height and weight data. show the distribution according to BMI categories"
      ],
      "metadata": {
        "id": "GntLThAlHSV_"
      }
    },
    {
      "cell_type": "code",
      "execution_count": null,
      "source": [
        "superheroes_info.head()"
      ],
      "outputs": [
        {
          "output_type": "execute_result",
          "data": {
            "text/html": [
              "<div>\n",
              "<style scoped>\n",
              "    .dataframe tbody tr th:only-of-type {\n",
              "        vertical-align: middle;\n",
              "    }\n",
              "\n",
              "    .dataframe tbody tr th {\n",
              "        vertical-align: top;\n",
              "    }\n",
              "\n",
              "    .dataframe thead th {\n",
              "        text-align: right;\n",
              "    }\n",
              "</style>\n",
              "<table border=\"1\" class=\"dataframe\">\n",
              "  <thead>\n",
              "    <tr style=\"text-align: right;\">\n",
              "      <th></th>\n",
              "      <th>Unnamed: 0</th>\n",
              "      <th>Name</th>\n",
              "      <th>Identity</th>\n",
              "      <th>Status</th>\n",
              "      <th>Gender</th>\n",
              "      <th>Alignment</th>\n",
              "      <th>Race</th>\n",
              "      <th>Height</th>\n",
              "      <th>Weight</th>\n",
              "      <th>EyeColor</th>\n",
              "      <th>HairColor</th>\n",
              "      <th>SkinColor</th>\n",
              "      <th>Publisher</th>\n",
              "      <th>Year</th>\n",
              "      <th>Appearances</th>\n",
              "      <th>FirstAppearance</th>\n",
              "      <th>AdditionalData</th>\n",
              "    </tr>\n",
              "  </thead>\n",
              "  <tbody>\n",
              "    <tr>\n",
              "      <th>0</th>\n",
              "      <td>0</td>\n",
              "      <td>Spider-Man</td>\n",
              "      <td>Secret</td>\n",
              "      <td>Living</td>\n",
              "      <td>Male</td>\n",
              "      <td>Good</td>\n",
              "      <td>Human</td>\n",
              "      <td>178.0</td>\n",
              "      <td>74.0</td>\n",
              "      <td>Hazel</td>\n",
              "      <td>Brown</td>\n",
              "      <td>NaN</td>\n",
              "      <td>Marvel</td>\n",
              "      <td>1962.0</td>\n",
              "      <td>4043.0</td>\n",
              "      <td>1962-08-01</td>\n",
              "      <td>Peter Parker</td>\n",
              "    </tr>\n",
              "    <tr>\n",
              "      <th>1</th>\n",
              "      <td>1</td>\n",
              "      <td>Spider-Man</td>\n",
              "      <td>Secret</td>\n",
              "      <td>Living</td>\n",
              "      <td>Male</td>\n",
              "      <td>Good</td>\n",
              "      <td>Human</td>\n",
              "      <td>178.0</td>\n",
              "      <td>77.0</td>\n",
              "      <td>Hazel</td>\n",
              "      <td>Brown</td>\n",
              "      <td>NaN</td>\n",
              "      <td>Marvel</td>\n",
              "      <td>1962.0</td>\n",
              "      <td>4043.0</td>\n",
              "      <td>1962-08-01</td>\n",
              "      <td>Peter Parker</td>\n",
              "    </tr>\n",
              "    <tr>\n",
              "      <th>2</th>\n",
              "      <td>2</td>\n",
              "      <td>Spider-Man</td>\n",
              "      <td>Secret</td>\n",
              "      <td>Living</td>\n",
              "      <td>Male</td>\n",
              "      <td>Good</td>\n",
              "      <td>Human</td>\n",
              "      <td>157.0</td>\n",
              "      <td>56.0</td>\n",
              "      <td>Hazel</td>\n",
              "      <td>Brown</td>\n",
              "      <td>NaN</td>\n",
              "      <td>Marvel</td>\n",
              "      <td>1962.0</td>\n",
              "      <td>4043.0</td>\n",
              "      <td>1962-08-01</td>\n",
              "      <td>Peter Parker</td>\n",
              "    </tr>\n",
              "    <tr>\n",
              "      <th>3</th>\n",
              "      <td>3</td>\n",
              "      <td>Captain America</td>\n",
              "      <td>Public</td>\n",
              "      <td>Living</td>\n",
              "      <td>Male</td>\n",
              "      <td>Good</td>\n",
              "      <td>Human</td>\n",
              "      <td>188.0</td>\n",
              "      <td>108.0</td>\n",
              "      <td>Blue</td>\n",
              "      <td>White</td>\n",
              "      <td>NaN</td>\n",
              "      <td>Marvel</td>\n",
              "      <td>1941.0</td>\n",
              "      <td>3360.0</td>\n",
              "      <td>1941-03-01</td>\n",
              "      <td>Steven Rogers</td>\n",
              "    </tr>\n",
              "    <tr>\n",
              "      <th>4</th>\n",
              "      <td>4</td>\n",
              "      <td>Captain America</td>\n",
              "      <td>Secret</td>\n",
              "      <td>Living</td>\n",
              "      <td>Male</td>\n",
              "      <td>Bad</td>\n",
              "      <td>Human</td>\n",
              "      <td>188.0</td>\n",
              "      <td>108.0</td>\n",
              "      <td>Blue</td>\n",
              "      <td>Blond</td>\n",
              "      <td>NaN</td>\n",
              "      <td>Marvel</td>\n",
              "      <td>1966.0</td>\n",
              "      <td>1.0</td>\n",
              "      <td>1966-10-01</td>\n",
              "      <td>Impersonator, Sons of the Serpent</td>\n",
              "    </tr>\n",
              "  </tbody>\n",
              "</table>\n",
              "</div>"
            ],
            "text/plain": [
              "   Unnamed: 0  ...                     AdditionalData\n",
              "0           0  ...                       Peter Parker\n",
              "1           1  ...                       Peter Parker\n",
              "2           2  ...                       Peter Parker\n",
              "3           3  ...                      Steven Rogers\n",
              "4           4  ...  Impersonator, Sons of the Serpent\n",
              "\n",
              "[5 rows x 17 columns]"
            ]
          },
          "metadata": {},
          "execution_count": 53
        }
      ],
      "metadata": {
        "colab": {
          "base_uri": "https://localhost:8080/",
          "height": 347
        },
        "id": "gtLej7AgG6Yw",
        "outputId": "2dc4a88a-cbde-49c0-e170-9455a16bc04e"
      }
    },
    {
      "cell_type": "code",
      "execution_count": null,
      "source": [
        "# Considering Height is in Centimeter and Weight is in Kilograms\n",
        "superheroes_info[\"BMI\"] = superheroes_info.Weight/((superheroes_info.Height/100) ** 2)\n",
        "superheroes_info[[\"Name\", \"Height\", \"Weight\", \"BMI\"]].head(10)"
      ],
      "outputs": [
        {
          "output_type": "execute_result",
          "data": {
            "text/html": [
              "<div>\n",
              "<style scoped>\n",
              "    .dataframe tbody tr th:only-of-type {\n",
              "        vertical-align: middle;\n",
              "    }\n",
              "\n",
              "    .dataframe tbody tr th {\n",
              "        vertical-align: top;\n",
              "    }\n",
              "\n",
              "    .dataframe thead th {\n",
              "        text-align: right;\n",
              "    }\n",
              "</style>\n",
              "<table border=\"1\" class=\"dataframe\">\n",
              "  <thead>\n",
              "    <tr style=\"text-align: right;\">\n",
              "      <th></th>\n",
              "      <th>Name</th>\n",
              "      <th>Height</th>\n",
              "      <th>Weight</th>\n",
              "      <th>BMI</th>\n",
              "    </tr>\n",
              "  </thead>\n",
              "  <tbody>\n",
              "    <tr>\n",
              "      <th>0</th>\n",
              "      <td>Spider-Man</td>\n",
              "      <td>178.0</td>\n",
              "      <td>74.0</td>\n",
              "      <td>23.355637</td>\n",
              "    </tr>\n",
              "    <tr>\n",
              "      <th>1</th>\n",
              "      <td>Spider-Man</td>\n",
              "      <td>178.0</td>\n",
              "      <td>77.0</td>\n",
              "      <td>24.302487</td>\n",
              "    </tr>\n",
              "    <tr>\n",
              "      <th>2</th>\n",
              "      <td>Spider-Man</td>\n",
              "      <td>157.0</td>\n",
              "      <td>56.0</td>\n",
              "      <td>22.718974</td>\n",
              "    </tr>\n",
              "    <tr>\n",
              "      <th>3</th>\n",
              "      <td>Captain America</td>\n",
              "      <td>188.0</td>\n",
              "      <td>108.0</td>\n",
              "      <td>30.556813</td>\n",
              "    </tr>\n",
              "    <tr>\n",
              "      <th>4</th>\n",
              "      <td>Captain America</td>\n",
              "      <td>188.0</td>\n",
              "      <td>108.0</td>\n",
              "      <td>30.556813</td>\n",
              "    </tr>\n",
              "    <tr>\n",
              "      <th>5</th>\n",
              "      <td>Captain America</td>\n",
              "      <td>188.0</td>\n",
              "      <td>108.0</td>\n",
              "      <td>30.556813</td>\n",
              "    </tr>\n",
              "    <tr>\n",
              "      <th>6</th>\n",
              "      <td>Wolverine</td>\n",
              "      <td>160.0</td>\n",
              "      <td>135.0</td>\n",
              "      <td>52.734375</td>\n",
              "    </tr>\n",
              "    <tr>\n",
              "      <th>7</th>\n",
              "      <td>Wolverine</td>\n",
              "      <td>160.0</td>\n",
              "      <td>135.0</td>\n",
              "      <td>52.734375</td>\n",
              "    </tr>\n",
              "    <tr>\n",
              "      <th>8</th>\n",
              "      <td>Iron Man</td>\n",
              "      <td>198.0</td>\n",
              "      <td>191.0</td>\n",
              "      <td>48.719518</td>\n",
              "    </tr>\n",
              "    <tr>\n",
              "      <th>9</th>\n",
              "      <td>Iron Man</td>\n",
              "      <td>198.0</td>\n",
              "      <td>191.0</td>\n",
              "      <td>48.719518</td>\n",
              "    </tr>\n",
              "  </tbody>\n",
              "</table>\n",
              "</div>"
            ],
            "text/plain": [
              "              Name  Height  Weight        BMI\n",
              "0       Spider-Man   178.0    74.0  23.355637\n",
              "1       Spider-Man   178.0    77.0  24.302487\n",
              "2       Spider-Man   157.0    56.0  22.718974\n",
              "3  Captain America   188.0   108.0  30.556813\n",
              "4  Captain America   188.0   108.0  30.556813\n",
              "5  Captain America   188.0   108.0  30.556813\n",
              "6        Wolverine   160.0   135.0  52.734375\n",
              "7        Wolverine   160.0   135.0  52.734375\n",
              "8         Iron Man   198.0   191.0  48.719518\n",
              "9         Iron Man   198.0   191.0  48.719518"
            ]
          },
          "metadata": {},
          "execution_count": 54
        }
      ],
      "metadata": {
        "colab": {
          "base_uri": "https://localhost:8080/",
          "height": 363
        },
        "id": "ofpryO1oHd42",
        "outputId": "223f6744-22d2-4315-f859-107091fdb649"
      }
    },
    {
      "cell_type": "code",
      "execution_count": null,
      "source": [
        "sns.displot(superheroes_info.BMI)\n",
        "plt.title(\"BMI Distribution\")\n",
        "plt.show()"
      ],
      "outputs": [
        {
          "output_type": "display_data",
          "data": {
            "image/png": "[encoded data removed]",
            "text/plain": [
              "<Figure size 360x360 with 1 Axes>"
            ]
          },
          "metadata": {
            "needs_background": "light"
          }
        }
      ],
      "metadata": {
        "colab": {
          "base_uri": "https://localhost:8080/",
          "height": 385
        },
        "id": "rnNRddj4JxJ0",
        "outputId": "d1e1d66d-c72d-4795-cfba-7da182b0c859"
      }
    },
    {
      "cell_type": "code",
      "execution_count": null,
      "source": [],
      "outputs": [],
      "metadata": {
        "id": "o0G8O4fpKZC1"
      }
    },
    {
      "cell_type": "markdown",
      "source": [
        "## Question 20 : Show Top Rare and Common abilites"
      ],
      "metadata": {
        "id": "WCEUhWy9DQXb"
      }
    },
    {
      "cell_type": "code",
      "execution_count": null,
      "source": [
        "superheroes_power_matrix.head()"
      ],
      "outputs": [
        {
          "output_type": "execute_result",
          "data": {
            "text/html": [
              "<div>\n",
              "<style scoped>\n",
              "    .dataframe tbody tr th:only-of-type {\n",
              "        vertical-align: middle;\n",
              "    }\n",
              "\n",
              "    .dataframe tbody tr th {\n",
              "        vertical-align: top;\n",
              "    }\n",
              "\n",
              "    .dataframe thead th {\n",
              "        text-align: right;\n",
              "    }\n",
              "</style>\n",
              "<table border=\"1\" class=\"dataframe\">\n",
              "  <thead>\n",
              "    <tr style=\"text-align: right;\">\n",
              "      <th></th>\n",
              "      <th>Name</th>\n",
              "      <th>Agility</th>\n",
              "      <th>Accelerated Healing</th>\n",
              "      <th>Lantern Power Ring</th>\n",
              "      <th>Dimensional Awareness</th>\n",
              "      <th>Cold Resistance</th>\n",
              "      <th>Durability</th>\n",
              "      <th>Stealth</th>\n",
              "      <th>Energy Absorption</th>\n",
              "      <th>Flight</th>\n",
              "      <th>Danger Sense</th>\n",
              "      <th>Underwater breathing</th>\n",
              "      <th>Marksmanship</th>\n",
              "      <th>Weapons Master</th>\n",
              "      <th>Power Augmentation</th>\n",
              "      <th>Animal Attributes</th>\n",
              "      <th>Longevity</th>\n",
              "      <th>Intelligence</th>\n",
              "      <th>Super Strength</th>\n",
              "      <th>Cryokinesis</th>\n",
              "      <th>Telepathy</th>\n",
              "      <th>Energy Armor</th>\n",
              "      <th>Energy Blasts</th>\n",
              "      <th>Duplication</th>\n",
              "      <th>Size Changing</th>\n",
              "      <th>Density Control</th>\n",
              "      <th>Stamina</th>\n",
              "      <th>Astral Travel</th>\n",
              "      <th>Audio Control</th>\n",
              "      <th>Dexterity</th>\n",
              "      <th>Omnitrix</th>\n",
              "      <th>Super Speed</th>\n",
              "      <th>Possession</th>\n",
              "      <th>Animal Oriented Powers</th>\n",
              "      <th>Weapon-based Powers</th>\n",
              "      <th>Electrokinesis</th>\n",
              "      <th>Darkforce Manipulation</th>\n",
              "      <th>Death Touch</th>\n",
              "      <th>Teleportation</th>\n",
              "      <th>Enhanced Senses</th>\n",
              "      <th>...</th>\n",
              "      <th>Plant Control</th>\n",
              "      <th>Sonar</th>\n",
              "      <th>Sonic Scream</th>\n",
              "      <th>Time Manipulation</th>\n",
              "      <th>Enhanced Touch</th>\n",
              "      <th>Magic Resistance</th>\n",
              "      <th>Invisibility</th>\n",
              "      <th>Sub-Mariner</th>\n",
              "      <th>Radiation Absorption</th>\n",
              "      <th>Intuitive aptitude</th>\n",
              "      <th>Vision - Microscopic</th>\n",
              "      <th>Melting</th>\n",
              "      <th>Wind Control</th>\n",
              "      <th>Super Breath</th>\n",
              "      <th>Wallcrawling</th>\n",
              "      <th>Vision - Night</th>\n",
              "      <th>Vision - Infrared</th>\n",
              "      <th>Grim Reaping</th>\n",
              "      <th>Matter Absorption</th>\n",
              "      <th>The Force</th>\n",
              "      <th>Resurrection</th>\n",
              "      <th>Terrakinesis</th>\n",
              "      <th>Vision - Heat</th>\n",
              "      <th>Vitakinesis</th>\n",
              "      <th>Radar Sense</th>\n",
              "      <th>Qwardian Power Ring</th>\n",
              "      <th>Weather Control</th>\n",
              "      <th>Vision - X-Ray</th>\n",
              "      <th>Vision - Thermal</th>\n",
              "      <th>Web Creation</th>\n",
              "      <th>Reality Warping</th>\n",
              "      <th>Odin Force</th>\n",
              "      <th>Symbiote Costume</th>\n",
              "      <th>Speed Force</th>\n",
              "      <th>Phoenix Force</th>\n",
              "      <th>Molecular Dissipation</th>\n",
              "      <th>Vision - Cryo</th>\n",
              "      <th>Omnipresent</th>\n",
              "      <th>Omniscient</th>\n",
              "      <th>Total Powers</th>\n",
              "    </tr>\n",
              "  </thead>\n",
              "  <tbody>\n",
              "    <tr>\n",
              "      <th>0</th>\n",
              "      <td>3-D Man</td>\n",
              "      <td>1</td>\n",
              "      <td>0</td>\n",
              "      <td>0</td>\n",
              "      <td>0</td>\n",
              "      <td>0</td>\n",
              "      <td>0</td>\n",
              "      <td>0</td>\n",
              "      <td>0</td>\n",
              "      <td>0</td>\n",
              "      <td>0</td>\n",
              "      <td>0</td>\n",
              "      <td>0</td>\n",
              "      <td>0</td>\n",
              "      <td>0</td>\n",
              "      <td>0</td>\n",
              "      <td>0</td>\n",
              "      <td>0</td>\n",
              "      <td>1</td>\n",
              "      <td>0</td>\n",
              "      <td>0</td>\n",
              "      <td>0</td>\n",
              "      <td>0</td>\n",
              "      <td>0</td>\n",
              "      <td>0</td>\n",
              "      <td>0</td>\n",
              "      <td>1</td>\n",
              "      <td>0</td>\n",
              "      <td>0</td>\n",
              "      <td>0</td>\n",
              "      <td>0</td>\n",
              "      <td>1</td>\n",
              "      <td>0</td>\n",
              "      <td>0</td>\n",
              "      <td>0</td>\n",
              "      <td>0</td>\n",
              "      <td>0</td>\n",
              "      <td>0</td>\n",
              "      <td>0</td>\n",
              "      <td>0</td>\n",
              "      <td>...</td>\n",
              "      <td>0</td>\n",
              "      <td>0</td>\n",
              "      <td>0</td>\n",
              "      <td>0</td>\n",
              "      <td>0</td>\n",
              "      <td>0</td>\n",
              "      <td>0</td>\n",
              "      <td>0</td>\n",
              "      <td>0</td>\n",
              "      <td>0</td>\n",
              "      <td>0</td>\n",
              "      <td>0</td>\n",
              "      <td>0</td>\n",
              "      <td>0</td>\n",
              "      <td>0</td>\n",
              "      <td>0</td>\n",
              "      <td>0</td>\n",
              "      <td>0</td>\n",
              "      <td>0</td>\n",
              "      <td>0</td>\n",
              "      <td>0</td>\n",
              "      <td>0</td>\n",
              "      <td>0</td>\n",
              "      <td>0</td>\n",
              "      <td>0</td>\n",
              "      <td>0</td>\n",
              "      <td>0</td>\n",
              "      <td>0</td>\n",
              "      <td>0</td>\n",
              "      <td>0</td>\n",
              "      <td>0</td>\n",
              "      <td>0</td>\n",
              "      <td>0</td>\n",
              "      <td>0</td>\n",
              "      <td>0</td>\n",
              "      <td>0</td>\n",
              "      <td>0</td>\n",
              "      <td>0</td>\n",
              "      <td>0</td>\n",
              "      <td>4</td>\n",
              "    </tr>\n",
              "    <tr>\n",
              "      <th>1</th>\n",
              "      <td>A-Bomb</td>\n",
              "      <td>0</td>\n",
              "      <td>1</td>\n",
              "      <td>0</td>\n",
              "      <td>0</td>\n",
              "      <td>0</td>\n",
              "      <td>1</td>\n",
              "      <td>0</td>\n",
              "      <td>0</td>\n",
              "      <td>0</td>\n",
              "      <td>0</td>\n",
              "      <td>0</td>\n",
              "      <td>0</td>\n",
              "      <td>0</td>\n",
              "      <td>0</td>\n",
              "      <td>0</td>\n",
              "      <td>1</td>\n",
              "      <td>0</td>\n",
              "      <td>1</td>\n",
              "      <td>0</td>\n",
              "      <td>0</td>\n",
              "      <td>0</td>\n",
              "      <td>0</td>\n",
              "      <td>0</td>\n",
              "      <td>0</td>\n",
              "      <td>0</td>\n",
              "      <td>1</td>\n",
              "      <td>0</td>\n",
              "      <td>0</td>\n",
              "      <td>0</td>\n",
              "      <td>0</td>\n",
              "      <td>0</td>\n",
              "      <td>0</td>\n",
              "      <td>0</td>\n",
              "      <td>0</td>\n",
              "      <td>0</td>\n",
              "      <td>0</td>\n",
              "      <td>0</td>\n",
              "      <td>0</td>\n",
              "      <td>0</td>\n",
              "      <td>...</td>\n",
              "      <td>0</td>\n",
              "      <td>0</td>\n",
              "      <td>0</td>\n",
              "      <td>0</td>\n",
              "      <td>0</td>\n",
              "      <td>0</td>\n",
              "      <td>0</td>\n",
              "      <td>0</td>\n",
              "      <td>0</td>\n",
              "      <td>0</td>\n",
              "      <td>0</td>\n",
              "      <td>0</td>\n",
              "      <td>0</td>\n",
              "      <td>0</td>\n",
              "      <td>0</td>\n",
              "      <td>0</td>\n",
              "      <td>0</td>\n",
              "      <td>0</td>\n",
              "      <td>0</td>\n",
              "      <td>0</td>\n",
              "      <td>0</td>\n",
              "      <td>0</td>\n",
              "      <td>0</td>\n",
              "      <td>0</td>\n",
              "      <td>0</td>\n",
              "      <td>0</td>\n",
              "      <td>0</td>\n",
              "      <td>0</td>\n",
              "      <td>0</td>\n",
              "      <td>0</td>\n",
              "      <td>0</td>\n",
              "      <td>0</td>\n",
              "      <td>0</td>\n",
              "      <td>0</td>\n",
              "      <td>0</td>\n",
              "      <td>0</td>\n",
              "      <td>0</td>\n",
              "      <td>0</td>\n",
              "      <td>0</td>\n",
              "      <td>7</td>\n",
              "    </tr>\n",
              "    <tr>\n",
              "      <th>2</th>\n",
              "      <td>Abe Sapien</td>\n",
              "      <td>1</td>\n",
              "      <td>1</td>\n",
              "      <td>0</td>\n",
              "      <td>0</td>\n",
              "      <td>1</td>\n",
              "      <td>1</td>\n",
              "      <td>0</td>\n",
              "      <td>0</td>\n",
              "      <td>0</td>\n",
              "      <td>0</td>\n",
              "      <td>1</td>\n",
              "      <td>1</td>\n",
              "      <td>1</td>\n",
              "      <td>0</td>\n",
              "      <td>0</td>\n",
              "      <td>1</td>\n",
              "      <td>1</td>\n",
              "      <td>1</td>\n",
              "      <td>0</td>\n",
              "      <td>1</td>\n",
              "      <td>0</td>\n",
              "      <td>0</td>\n",
              "      <td>0</td>\n",
              "      <td>0</td>\n",
              "      <td>0</td>\n",
              "      <td>1</td>\n",
              "      <td>0</td>\n",
              "      <td>0</td>\n",
              "      <td>0</td>\n",
              "      <td>0</td>\n",
              "      <td>0</td>\n",
              "      <td>0</td>\n",
              "      <td>0</td>\n",
              "      <td>0</td>\n",
              "      <td>0</td>\n",
              "      <td>0</td>\n",
              "      <td>0</td>\n",
              "      <td>0</td>\n",
              "      <td>0</td>\n",
              "      <td>...</td>\n",
              "      <td>0</td>\n",
              "      <td>0</td>\n",
              "      <td>0</td>\n",
              "      <td>0</td>\n",
              "      <td>0</td>\n",
              "      <td>0</td>\n",
              "      <td>0</td>\n",
              "      <td>1</td>\n",
              "      <td>0</td>\n",
              "      <td>0</td>\n",
              "      <td>0</td>\n",
              "      <td>0</td>\n",
              "      <td>0</td>\n",
              "      <td>0</td>\n",
              "      <td>0</td>\n",
              "      <td>0</td>\n",
              "      <td>0</td>\n",
              "      <td>0</td>\n",
              "      <td>0</td>\n",
              "      <td>0</td>\n",
              "      <td>0</td>\n",
              "      <td>0</td>\n",
              "      <td>0</td>\n",
              "      <td>0</td>\n",
              "      <td>0</td>\n",
              "      <td>0</td>\n",
              "      <td>0</td>\n",
              "      <td>0</td>\n",
              "      <td>0</td>\n",
              "      <td>0</td>\n",
              "      <td>0</td>\n",
              "      <td>0</td>\n",
              "      <td>0</td>\n",
              "      <td>0</td>\n",
              "      <td>0</td>\n",
              "      <td>0</td>\n",
              "      <td>0</td>\n",
              "      <td>0</td>\n",
              "      <td>0</td>\n",
              "      <td>16</td>\n",
              "    </tr>\n",
              "    <tr>\n",
              "      <th>3</th>\n",
              "      <td>Abin Sur</td>\n",
              "      <td>0</td>\n",
              "      <td>0</td>\n",
              "      <td>1</td>\n",
              "      <td>0</td>\n",
              "      <td>0</td>\n",
              "      <td>0</td>\n",
              "      <td>0</td>\n",
              "      <td>0</td>\n",
              "      <td>0</td>\n",
              "      <td>0</td>\n",
              "      <td>0</td>\n",
              "      <td>0</td>\n",
              "      <td>0</td>\n",
              "      <td>0</td>\n",
              "      <td>0</td>\n",
              "      <td>0</td>\n",
              "      <td>0</td>\n",
              "      <td>0</td>\n",
              "      <td>0</td>\n",
              "      <td>0</td>\n",
              "      <td>0</td>\n",
              "      <td>0</td>\n",
              "      <td>0</td>\n",
              "      <td>0</td>\n",
              "      <td>0</td>\n",
              "      <td>0</td>\n",
              "      <td>0</td>\n",
              "      <td>0</td>\n",
              "      <td>0</td>\n",
              "      <td>0</td>\n",
              "      <td>0</td>\n",
              "      <td>0</td>\n",
              "      <td>0</td>\n",
              "      <td>0</td>\n",
              "      <td>0</td>\n",
              "      <td>0</td>\n",
              "      <td>0</td>\n",
              "      <td>0</td>\n",
              "      <td>0</td>\n",
              "      <td>...</td>\n",
              "      <td>0</td>\n",
              "      <td>0</td>\n",
              "      <td>0</td>\n",
              "      <td>0</td>\n",
              "      <td>0</td>\n",
              "      <td>0</td>\n",
              "      <td>0</td>\n",
              "      <td>0</td>\n",
              "      <td>0</td>\n",
              "      <td>0</td>\n",
              "      <td>0</td>\n",
              "      <td>0</td>\n",
              "      <td>0</td>\n",
              "      <td>0</td>\n",
              "      <td>0</td>\n",
              "      <td>0</td>\n",
              "      <td>0</td>\n",
              "      <td>0</td>\n",
              "      <td>0</td>\n",
              "      <td>0</td>\n",
              "      <td>0</td>\n",
              "      <td>0</td>\n",
              "      <td>0</td>\n",
              "      <td>0</td>\n",
              "      <td>0</td>\n",
              "      <td>0</td>\n",
              "      <td>0</td>\n",
              "      <td>0</td>\n",
              "      <td>0</td>\n",
              "      <td>0</td>\n",
              "      <td>0</td>\n",
              "      <td>0</td>\n",
              "      <td>0</td>\n",
              "      <td>0</td>\n",
              "      <td>0</td>\n",
              "      <td>0</td>\n",
              "      <td>0</td>\n",
              "      <td>0</td>\n",
              "      <td>0</td>\n",
              "      <td>1</td>\n",
              "    </tr>\n",
              "    <tr>\n",
              "      <th>4</th>\n",
              "      <td>Abomination</td>\n",
              "      <td>0</td>\n",
              "      <td>1</td>\n",
              "      <td>0</td>\n",
              "      <td>0</td>\n",
              "      <td>0</td>\n",
              "      <td>0</td>\n",
              "      <td>0</td>\n",
              "      <td>0</td>\n",
              "      <td>0</td>\n",
              "      <td>0</td>\n",
              "      <td>0</td>\n",
              "      <td>0</td>\n",
              "      <td>0</td>\n",
              "      <td>0</td>\n",
              "      <td>0</td>\n",
              "      <td>0</td>\n",
              "      <td>1</td>\n",
              "      <td>1</td>\n",
              "      <td>0</td>\n",
              "      <td>0</td>\n",
              "      <td>0</td>\n",
              "      <td>0</td>\n",
              "      <td>0</td>\n",
              "      <td>0</td>\n",
              "      <td>0</td>\n",
              "      <td>1</td>\n",
              "      <td>0</td>\n",
              "      <td>0</td>\n",
              "      <td>0</td>\n",
              "      <td>0</td>\n",
              "      <td>1</td>\n",
              "      <td>0</td>\n",
              "      <td>0</td>\n",
              "      <td>0</td>\n",
              "      <td>0</td>\n",
              "      <td>0</td>\n",
              "      <td>0</td>\n",
              "      <td>0</td>\n",
              "      <td>0</td>\n",
              "      <td>...</td>\n",
              "      <td>0</td>\n",
              "      <td>0</td>\n",
              "      <td>0</td>\n",
              "      <td>0</td>\n",
              "      <td>0</td>\n",
              "      <td>0</td>\n",
              "      <td>0</td>\n",
              "      <td>0</td>\n",
              "      <td>0</td>\n",
              "      <td>0</td>\n",
              "      <td>0</td>\n",
              "      <td>0</td>\n",
              "      <td>0</td>\n",
              "      <td>1</td>\n",
              "      <td>0</td>\n",
              "      <td>0</td>\n",
              "      <td>0</td>\n",
              "      <td>0</td>\n",
              "      <td>0</td>\n",
              "      <td>0</td>\n",
              "      <td>0</td>\n",
              "      <td>0</td>\n",
              "      <td>0</td>\n",
              "      <td>0</td>\n",
              "      <td>0</td>\n",
              "      <td>0</td>\n",
              "      <td>0</td>\n",
              "      <td>0</td>\n",
              "      <td>0</td>\n",
              "      <td>0</td>\n",
              "      <td>0</td>\n",
              "      <td>0</td>\n",
              "      <td>0</td>\n",
              "      <td>0</td>\n",
              "      <td>0</td>\n",
              "      <td>0</td>\n",
              "      <td>0</td>\n",
              "      <td>0</td>\n",
              "      <td>0</td>\n",
              "      <td>8</td>\n",
              "    </tr>\n",
              "  </tbody>\n",
              "</table>\n",
              "<p>5 rows × 169 columns</p>\n",
              "</div>"
            ],
            "text/plain": [
              "          Name  Agility  ...  Omniscient  Total Powers\n",
              "0      3-D Man        1  ...           0             4\n",
              "1       A-Bomb        0  ...           0             7\n",
              "2   Abe Sapien        1  ...           0            16\n",
              "3     Abin Sur        0  ...           0             1\n",
              "4  Abomination        0  ...           0             8\n",
              "\n",
              "[5 rows x 169 columns]"
            ]
          },
          "metadata": {},
          "execution_count": 61
        }
      ],
      "metadata": {
        "colab": {
          "base_uri": "https://localhost:8080/",
          "height": 290
        },
        "id": "XVFnUIYCDkWG",
        "outputId": "7daf7f53-4f1b-4c72-c941-4ac6bd1e138f"
      }
    },
    {
      "cell_type": "code",
      "execution_count": null,
      "source": [
        "superheroes_power_matrix.replace({True: 1, False: 0}, inplace=True)"
      ],
      "outputs": [],
      "metadata": {
        "id": "9LlgDb02DqUG"
      }
    },
    {
      "cell_type": "code",
      "execution_count": null,
      "source": [
        "abilitites = superheroes_power_matrix.columns[1:-1]\n",
        "abilitites"
      ],
      "outputs": [
        {
          "output_type": "execute_result",
          "data": {
            "text/plain": [
              "Index(['Agility', 'Accelerated Healing', 'Lantern Power Ring',\n",
              "       'Dimensional Awareness', 'Cold Resistance', 'Durability', 'Stealth',\n",
              "       'Energy Absorption', 'Flight', 'Danger Sense',\n",
              "       ...\n",
              "       'Web Creation', 'Reality Warping', 'Odin Force', 'Symbiote Costume',\n",
              "       'Speed Force', 'Phoenix Force', 'Molecular Dissipation',\n",
              "       'Vision - Cryo', 'Omnipresent', 'Omniscient'],\n",
              "      dtype='object', length=167)"
            ]
          },
          "metadata": {},
          "execution_count": 66
        }
      ],
      "metadata": {
        "colab": {
          "base_uri": "https://localhost:8080/"
        },
        "id": "hBfelyvrDxa8",
        "outputId": "d6ad96ba-bfc3-48d1-fc9c-bb90af3dd7b5"
      }
    },
    {
      "cell_type": "code",
      "execution_count": null,
      "source": [
        "ability_counts = []\n",
        "\n",
        "for ability in abilitites:\n",
        "  count = superheroes_power_matrix[ability].sum()\n",
        "  ability_counts.append(count)"
      ],
      "outputs": [],
      "metadata": {
        "id": "t7HS9AllEasc"
      }
    },
    {
      "cell_type": "code",
      "execution_count": null,
      "source": [
        "ability_count_df = pd.DataFrame()\n",
        "ability_count_df[\"Ability\"] = abilitites\n",
        "ability_count_df[\"Count\"] = ability_counts\n",
        "\n",
        "ability_count_df.sort_values(by=\"Count\", inplace=True)"
      ],
      "outputs": [],
      "metadata": {
        "id": "0hOyU7L5Ey2A"
      }
    },
    {
      "cell_type": "code",
      "execution_count": null,
      "source": [
        "ability_count_df.describe()"
      ],
      "outputs": [
        {
          "output_type": "execute_result",
          "data": {
            "text/html": [
              "<div>\n",
              "<style scoped>\n",
              "    .dataframe tbody tr th:only-of-type {\n",
              "        vertical-align: middle;\n",
              "    }\n",
              "\n",
              "    .dataframe tbody tr th {\n",
              "        vertical-align: top;\n",
              "    }\n",
              "\n",
              "    .dataframe thead th {\n",
              "        text-align: right;\n",
              "    }\n",
              "</style>\n",
              "<table border=\"1\" class=\"dataframe\">\n",
              "  <thead>\n",
              "    <tr style=\"text-align: right;\">\n",
              "      <th></th>\n",
              "      <th>Count</th>\n",
              "    </tr>\n",
              "  </thead>\n",
              "  <tbody>\n",
              "    <tr>\n",
              "      <th>count</th>\n",
              "      <td>167.000000</td>\n",
              "    </tr>\n",
              "    <tr>\n",
              "      <th>mean</th>\n",
              "      <td>35.173653</td>\n",
              "    </tr>\n",
              "    <tr>\n",
              "      <th>std</th>\n",
              "      <td>56.727947</td>\n",
              "    </tr>\n",
              "    <tr>\n",
              "      <th>min</th>\n",
              "      <td>1.000000</td>\n",
              "    </tr>\n",
              "    <tr>\n",
              "      <th>25%</th>\n",
              "      <td>6.000000</td>\n",
              "    </tr>\n",
              "    <tr>\n",
              "      <th>50%</th>\n",
              "      <td>16.000000</td>\n",
              "    </tr>\n",
              "    <tr>\n",
              "      <th>75%</th>\n",
              "      <td>35.000000</td>\n",
              "    </tr>\n",
              "    <tr>\n",
              "      <th>max</th>\n",
              "      <td>360.000000</td>\n",
              "    </tr>\n",
              "  </tbody>\n",
              "</table>\n",
              "</div>"
            ],
            "text/plain": [
              "            Count\n",
              "count  167.000000\n",
              "mean    35.173653\n",
              "std     56.727947\n",
              "min      1.000000\n",
              "25%      6.000000\n",
              "50%     16.000000\n",
              "75%     35.000000\n",
              "max    360.000000"
            ]
          },
          "metadata": {},
          "execution_count": 78
        }
      ],
      "metadata": {
        "colab": {
          "base_uri": "https://localhost:8080/",
          "height": 300
        },
        "id": "xO4vmuiuFheC",
        "outputId": "7cc834c9-ebae-4fa1-c496-e89b6280aa1e"
      }
    },
    {
      "cell_type": "code",
      "execution_count": null,
      "source": [
        "# The Least Common Abilites\n",
        "ability_count_df.loc[ability_count_df.Count == 1]"
      ],
      "outputs": [
        {
          "output_type": "execute_result",
          "data": {
            "text/html": [
              "<div>\n",
              "<style scoped>\n",
              "    .dataframe tbody tr th:only-of-type {\n",
              "        vertical-align: middle;\n",
              "    }\n",
              "\n",
              "    .dataframe tbody tr th {\n",
              "        vertical-align: top;\n",
              "    }\n",
              "\n",
              "    .dataframe thead th {\n",
              "        text-align: right;\n",
              "    }\n",
              "</style>\n",
              "<table border=\"1\" class=\"dataframe\">\n",
              "  <thead>\n",
              "    <tr style=\"text-align: right;\">\n",
              "      <th></th>\n",
              "      <th>Ability</th>\n",
              "      <th>Count</th>\n",
              "    </tr>\n",
              "  </thead>\n",
              "  <tbody>\n",
              "    <tr>\n",
              "      <th>108</th>\n",
              "      <td>Thirstokinesis</td>\n",
              "      <td>1</td>\n",
              "    </tr>\n",
              "    <tr>\n",
              "      <th>137</th>\n",
              "      <td>Intuitive aptitude</td>\n",
              "      <td>1</td>\n",
              "    </tr>\n",
              "    <tr>\n",
              "      <th>42</th>\n",
              "      <td>Hyperkinesis</td>\n",
              "      <td>1</td>\n",
              "    </tr>\n",
              "    <tr>\n",
              "      <th>109</th>\n",
              "      <td>Hair Manipulation</td>\n",
              "      <td>1</td>\n",
              "    </tr>\n",
              "    <tr>\n",
              "      <th>54</th>\n",
              "      <td>Electrical Transport</td>\n",
              "      <td>1</td>\n",
              "    </tr>\n",
              "    <tr>\n",
              "      <th>64</th>\n",
              "      <td>Anti-Gravity</td>\n",
              "      <td>1</td>\n",
              "    </tr>\n",
              "    <tr>\n",
              "      <th>120</th>\n",
              "      <td>Spatial Awareness</td>\n",
              "      <td>1</td>\n",
              "    </tr>\n",
              "    <tr>\n",
              "      <th>115</th>\n",
              "      <td>Biokinesis</td>\n",
              "      <td>1</td>\n",
              "    </tr>\n",
              "    <tr>\n",
              "      <th>29</th>\n",
              "      <td>Omnitrix</td>\n",
              "      <td>1</td>\n",
              "    </tr>\n",
              "    <tr>\n",
              "      <th>161</th>\n",
              "      <td>Speed Force</td>\n",
              "      <td>1</td>\n",
              "    </tr>\n",
              "    <tr>\n",
              "      <th>162</th>\n",
              "      <td>Phoenix Force</td>\n",
              "      <td>1</td>\n",
              "    </tr>\n",
              "    <tr>\n",
              "      <th>163</th>\n",
              "      <td>Molecular Dissipation</td>\n",
              "      <td>1</td>\n",
              "    </tr>\n",
              "    <tr>\n",
              "      <th>101</th>\n",
              "      <td>Banish</td>\n",
              "      <td>1</td>\n",
              "    </tr>\n",
              "    <tr>\n",
              "      <th>113</th>\n",
              "      <td>Changing Armor</td>\n",
              "      <td>1</td>\n",
              "    </tr>\n",
              "  </tbody>\n",
              "</table>\n",
              "</div>"
            ],
            "text/plain": [
              "                   Ability  Count\n",
              "108         Thirstokinesis      1\n",
              "137     Intuitive aptitude      1\n",
              "42            Hyperkinesis      1\n",
              "109      Hair Manipulation      1\n",
              "54    Electrical Transport      1\n",
              "64            Anti-Gravity      1\n",
              "120      Spatial Awareness      1\n",
              "115             Biokinesis      1\n",
              "29                Omnitrix      1\n",
              "161            Speed Force      1\n",
              "162          Phoenix Force      1\n",
              "163  Molecular Dissipation      1\n",
              "101                 Banish      1\n",
              "113         Changing Armor      1"
            ]
          },
          "metadata": {},
          "execution_count": 79
        }
      ],
      "metadata": {
        "colab": {
          "base_uri": "https://localhost:8080/",
          "height": 488
        },
        "id": "NQhiMnKAFixn",
        "outputId": "b71339d9-53d7-43f4-8c94-9039baaf1c57"
      }
    },
    {
      "cell_type": "code",
      "execution_count": null,
      "source": [
        "# The Most Common Abilites\n",
        "ability_count_df.tail(10)"
      ],
      "outputs": [
        {
          "output_type": "execute_result",
          "data": {
            "text/html": [
              "<div>\n",
              "<style scoped>\n",
              "    .dataframe tbody tr th:only-of-type {\n",
              "        vertical-align: middle;\n",
              "    }\n",
              "\n",
              "    .dataframe tbody tr th {\n",
              "        vertical-align: top;\n",
              "    }\n",
              "\n",
              "    .dataframe thead th {\n",
              "        text-align: right;\n",
              "    }\n",
              "</style>\n",
              "<table border=\"1\" class=\"dataframe\">\n",
              "  <thead>\n",
              "    <tr style=\"text-align: right;\">\n",
              "      <th></th>\n",
              "      <th>Ability</th>\n",
              "      <th>Count</th>\n",
              "    </tr>\n",
              "  </thead>\n",
              "  <tbody>\n",
              "    <tr>\n",
              "      <th>21</th>\n",
              "      <td>Energy Blasts</td>\n",
              "      <td>147</td>\n",
              "    </tr>\n",
              "    <tr>\n",
              "      <th>16</th>\n",
              "      <td>Intelligence</td>\n",
              "      <td>158</td>\n",
              "    </tr>\n",
              "    <tr>\n",
              "      <th>59</th>\n",
              "      <td>Reflexes</td>\n",
              "      <td>164</td>\n",
              "    </tr>\n",
              "    <tr>\n",
              "      <th>1</th>\n",
              "      <td>Accelerated Healing</td>\n",
              "      <td>178</td>\n",
              "    </tr>\n",
              "    <tr>\n",
              "      <th>8</th>\n",
              "      <td>Flight</td>\n",
              "      <td>212</td>\n",
              "    </tr>\n",
              "    <tr>\n",
              "      <th>0</th>\n",
              "      <td>Agility</td>\n",
              "      <td>242</td>\n",
              "    </tr>\n",
              "    <tr>\n",
              "      <th>30</th>\n",
              "      <td>Super Speed</td>\n",
              "      <td>249</td>\n",
              "    </tr>\n",
              "    <tr>\n",
              "      <th>5</th>\n",
              "      <td>Durability</td>\n",
              "      <td>257</td>\n",
              "    </tr>\n",
              "    <tr>\n",
              "      <th>25</th>\n",
              "      <td>Stamina</td>\n",
              "      <td>289</td>\n",
              "    </tr>\n",
              "    <tr>\n",
              "      <th>17</th>\n",
              "      <td>Super Strength</td>\n",
              "      <td>360</td>\n",
              "    </tr>\n",
              "  </tbody>\n",
              "</table>\n",
              "</div>"
            ],
            "text/plain": [
              "                Ability  Count\n",
              "21        Energy Blasts    147\n",
              "16         Intelligence    158\n",
              "59             Reflexes    164\n",
              "1   Accelerated Healing    178\n",
              "8                Flight    212\n",
              "0               Agility    242\n",
              "30          Super Speed    249\n",
              "5            Durability    257\n",
              "25              Stamina    289\n",
              "17       Super Strength    360"
            ]
          },
          "metadata": {},
          "execution_count": 82
        }
      ],
      "metadata": {
        "colab": {
          "base_uri": "https://localhost:8080/",
          "height": 363
        },
        "id": "DXzHijmiF1co",
        "outputId": "a754c71c-78f2-43b6-af52-49815ac8c12e"
      }
    }
  ]
}